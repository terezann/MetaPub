{
  "nbformat": 4,
  "nbformat_minor": 0,
  "metadata": {
    "colab": {
      "provenance": []
    },
    "kernelspec": {
      "name": "python3",
      "display_name": "Python 3"
    },
    "language_info": {
      "name": "python"
    }
  },
  "cells": [
    {
      "cell_type": "markdown",
      "source": [
        "# Εργαστηριακή Άσκηση 3\n",
        "## Εργαστήριο Βιοϊατρικής Τεχνολογίας"
      ],
      "metadata": {
        "id": "PNeSnNAm4Vw_"
      }
    },
    {
      "cell_type": "markdown",
      "source": [
        "Ονοματεπώνυμο: Τερέζα Άννα Βασιλείου\n",
        "\n",
        "Αριθμός μητρώου: 03120403\n",
        "\n",
        "Ομάδα εργαστηρίου: 9"
      ],
      "metadata": {
        "id": "rYDqrnEs4Zwd"
      }
    },
    {
      "cell_type": "markdown",
      "source": [
        "## Α' Μέρος"
      ],
      "metadata": {
        "id": "vsoz5dmp8IAM"
      }
    },
    {
      "cell_type": "markdown",
      "source": [
        "Να γίνει αναζήτηση από τη βιβλιογραφική μηχανή αναζήτησης PubMed 50 άρθρων που σχετίζονται με το συγκεκριμένο όρο για το έτος 2013."
      ],
      "metadata": {
        "id": "TxJj1zDh1Gi0"
      }
    },
    {
      "cell_type": "code",
      "execution_count": null,
      "metadata": {
        "id": "DBseh_Dg4VGC"
      },
      "outputs": [],
      "source": [
        "!pip install metapub"
      ]
    },
    {
      "cell_type": "code",
      "source": [
        "#dependencies\n",
        "import pandas as pd\n",
        "from metapub import PubMedFetcher"
      ],
      "metadata": {
        "id": "r2aFw8U1aI9H"
      },
      "execution_count": 4,
      "outputs": []
    },
    {
      "cell_type": "markdown",
      "source": [
        "Ορίζω τη λέξη κλειδί την οποία θέλω να αναζητήσω, την επιθυμητή χρονιά άρθρων, αλλά και τον αριθμό των άρθρων που θέλω να εμφανίσω."
      ],
      "metadata": {
        "id": "LE1SpA2C1rd2"
      }
    },
    {
      "cell_type": "code",
      "source": [
        "fetch = PubMedFetcher()\n",
        "keyword1 = 'e-Prescription'\n",
        "keyword2 = 'e-prescription'\n",
        "keyword3 = 'eprescription'\n",
        "keyword4 = 'E-prescription'\n",
        "keyword5 = 'Eprescription'\n",
        "keyword6 = 'eprescribing'\n",
        "keyword7 = 'e-prescribing'\n",
        "num_of_articles = 50"
      ],
      "metadata": {
        "id": "XvVHPrRWq5vd"
      },
      "execution_count": 5,
      "outputs": []
    },
    {
      "cell_type": "code",
      "source": [
        "#get the PMID for all articles with keyword 'eprescription'\n",
        "pmids_1 = fetch.pmids_for_query(keyword1)\n",
        "pmids_2 = fetch.pmids_for_query(keyword2)\n",
        "pmids_3 = fetch.pmids_for_query(keyword3)\n",
        "pmids_4 = fetch.pmids_for_query(keyword4)\n",
        "pmids_5 = fetch.pmids_for_query(keyword5)\n",
        "pmids_6 = fetch.pmids_for_query(keyword6)\n",
        "pmids_7 = fetch.pmids_for_query(keyword7)\n",
        "\n",
        "\n",
        "combined_set = set(pmids_1).union(set(pmids_2))\n",
        "pmids = combined_set.union(set(pmids_3))\n",
        "pmids1 = pmids.union(set(pmids_4))\n",
        "pmids_al = pmids1.union(set(pmids_5))\n",
        "pmids_al1 = pmids_al.union(set(pmids_6))\n",
        "pmids_all = pmids_al1.union(set(pmids_7))"
      ],
      "metadata": {
        "id": "C4-n9i_YrYiG"
      },
      "execution_count": 6,
      "outputs": []
    },
    {
      "cell_type": "code",
      "source": [
        "print(\"Rearch for articles with our keyword returned\", len(pmids_all), \"results.\")"
      ],
      "metadata": {
        "id": "AvDsEI5WJZGH",
        "colab": {
          "base_uri": "https://localhost:8080/"
        },
        "outputId": "2cdea279-c174-4285-c57c-f44a59d6cb22"
      },
      "execution_count": 7,
      "outputs": [
        {
          "output_type": "stream",
          "name": "stdout",
          "text": [
            "Rearch for articles with our keyword returned 690 results.\n"
          ]
        }
      ]
    },
    {
      "cell_type": "markdown",
      "source": [
        "Για το κάθε ένα άρθρο από τα παραπάνω, επιλέγω αυτά που αντιστοιχούν στην επιθυμητή χρονιά."
      ],
      "metadata": {
        "id": "j3XvoKeS7moj"
      }
    },
    {
      "cell_type": "code",
      "source": [
        "years = {}\n",
        "for pmid in pmids_all:\n",
        "  years[pmid] = fetch.article_by_pmid(pmid).year\n",
        "Year = pd.DataFrame(list(years.items()), columns = ['pmid', 'Year'])"
      ],
      "metadata": {
        "id": "XzyK5eN07mDh"
      },
      "execution_count": 9,
      "outputs": []
    },
    {
      "cell_type": "code",
      "source": [
        "Year2013 = Year[(Year['Year'] == '2013') | (Year['Year'] == 2013)]"
      ],
      "metadata": {
        "id": "hoamKStFAUpy"
      },
      "execution_count": 11,
      "outputs": []
    },
    {
      "cell_type": "code",
      "source": [
        "len(Year2013)"
      ],
      "metadata": {
        "colab": {
          "base_uri": "https://localhost:8080/"
        },
        "id": "XJSP7ElBenRP",
        "outputId": "b3a4a2d2-b9ff-4667-9509-d7bf1fccc8d3"
      },
      "execution_count": null,
      "outputs": [
        {
          "output_type": "execute_result",
          "data": {
            "text/plain": [
              "36"
            ]
          },
          "metadata": {},
          "execution_count": 109
        }
      ]
    },
    {
      "cell_type": "markdown",
      "source": [
        "Βρέθηκαν 36 άρθρα για τον όρο 'e-prescription' για το 2013 και θα χρησιμοποιήσω αυτά παρακάτω."
      ],
      "metadata": {
        "id": "CLdw1-LLNdGF"
      }
    },
    {
      "cell_type": "markdown",
      "source": [
        "α) Παρακάτω φαίνονται τα IDs των άρθρων που συλλέχθηκαν."
      ],
      "metadata": {
        "id": "uqoMDcBm1lg7"
      }
    },
    {
      "cell_type": "code",
      "source": [
        "pmids = Year2013.loc[:, 'pmid'].reset_index(drop=True)"
      ],
      "metadata": {
        "id": "DmEd6iIXPx6-"
      },
      "execution_count": 15,
      "outputs": []
    },
    {
      "cell_type": "code",
      "source": [
        "pmids = pd.DataFrame(pmids)"
      ],
      "metadata": {
        "id": "floeu62BQ3-Q"
      },
      "execution_count": 17,
      "outputs": []
    },
    {
      "cell_type": "code",
      "source": [
        "pmids"
      ],
      "metadata": {
        "colab": {
          "base_uri": "https://localhost:8080/",
          "height": 1000
        },
        "id": "17BMv-aDQ9U2",
        "outputId": "c7e1f176-ba3b-4904-fbf8-135e4bebbcb3"
      },
      "execution_count": 18,
      "outputs": [
        {
          "output_type": "execute_result",
          "data": {
            "text/plain": [
              "        pmid\n",
              "0   23708439\n",
              "1   24261370\n",
              "2   24371892\n",
              "3   24088212\n",
              "4   23335961\n",
              "5   24116250\n",
              "6   23940467\n",
              "7   23714550\n",
              "8   24416945\n",
              "9   23823360\n",
              "10  23591784\n",
              "11  23062769\n",
              "12  23530183\n",
              "13  23836737\n",
              "14  23773693\n",
              "15  24377142\n",
              "16  23855249\n",
              "17  24485245\n",
              "18  23355460\n",
              "19  24139361\n",
              "20  23638453\n",
              "21  23641130\n",
              "22  24066483\n",
              "23  23530170\n",
              "24  25114560\n",
              "25  23823420\n",
              "26  24260213\n",
              "27  24304258\n",
              "28  23920887\n",
              "29  23792464\n",
              "30  24693376\n",
              "31  23289663\n",
              "32  24512036\n",
              "33  23388319\n",
              "34  23898586\n",
              "35  23800087"
            ],
            "text/html": [
              "\n",
              "  <div id=\"df-fb27c8d7-a787-4e74-9ec3-a62dc87d1e7b\" class=\"colab-df-container\">\n",
              "    <div>\n",
              "<style scoped>\n",
              "    .dataframe tbody tr th:only-of-type {\n",
              "        vertical-align: middle;\n",
              "    }\n",
              "\n",
              "    .dataframe tbody tr th {\n",
              "        vertical-align: top;\n",
              "    }\n",
              "\n",
              "    .dataframe thead th {\n",
              "        text-align: right;\n",
              "    }\n",
              "</style>\n",
              "<table border=\"1\" class=\"dataframe\">\n",
              "  <thead>\n",
              "    <tr style=\"text-align: right;\">\n",
              "      <th></th>\n",
              "      <th>pmid</th>\n",
              "    </tr>\n",
              "  </thead>\n",
              "  <tbody>\n",
              "    <tr>\n",
              "      <th>0</th>\n",
              "      <td>23708439</td>\n",
              "    </tr>\n",
              "    <tr>\n",
              "      <th>1</th>\n",
              "      <td>24261370</td>\n",
              "    </tr>\n",
              "    <tr>\n",
              "      <th>2</th>\n",
              "      <td>24371892</td>\n",
              "    </tr>\n",
              "    <tr>\n",
              "      <th>3</th>\n",
              "      <td>24088212</td>\n",
              "    </tr>\n",
              "    <tr>\n",
              "      <th>4</th>\n",
              "      <td>23335961</td>\n",
              "    </tr>\n",
              "    <tr>\n",
              "      <th>5</th>\n",
              "      <td>24116250</td>\n",
              "    </tr>\n",
              "    <tr>\n",
              "      <th>6</th>\n",
              "      <td>23940467</td>\n",
              "    </tr>\n",
              "    <tr>\n",
              "      <th>7</th>\n",
              "      <td>23714550</td>\n",
              "    </tr>\n",
              "    <tr>\n",
              "      <th>8</th>\n",
              "      <td>24416945</td>\n",
              "    </tr>\n",
              "    <tr>\n",
              "      <th>9</th>\n",
              "      <td>23823360</td>\n",
              "    </tr>\n",
              "    <tr>\n",
              "      <th>10</th>\n",
              "      <td>23591784</td>\n",
              "    </tr>\n",
              "    <tr>\n",
              "      <th>11</th>\n",
              "      <td>23062769</td>\n",
              "    </tr>\n",
              "    <tr>\n",
              "      <th>12</th>\n",
              "      <td>23530183</td>\n",
              "    </tr>\n",
              "    <tr>\n",
              "      <th>13</th>\n",
              "      <td>23836737</td>\n",
              "    </tr>\n",
              "    <tr>\n",
              "      <th>14</th>\n",
              "      <td>23773693</td>\n",
              "    </tr>\n",
              "    <tr>\n",
              "      <th>15</th>\n",
              "      <td>24377142</td>\n",
              "    </tr>\n",
              "    <tr>\n",
              "      <th>16</th>\n",
              "      <td>23855249</td>\n",
              "    </tr>\n",
              "    <tr>\n",
              "      <th>17</th>\n",
              "      <td>24485245</td>\n",
              "    </tr>\n",
              "    <tr>\n",
              "      <th>18</th>\n",
              "      <td>23355460</td>\n",
              "    </tr>\n",
              "    <tr>\n",
              "      <th>19</th>\n",
              "      <td>24139361</td>\n",
              "    </tr>\n",
              "    <tr>\n",
              "      <th>20</th>\n",
              "      <td>23638453</td>\n",
              "    </tr>\n",
              "    <tr>\n",
              "      <th>21</th>\n",
              "      <td>23641130</td>\n",
              "    </tr>\n",
              "    <tr>\n",
              "      <th>22</th>\n",
              "      <td>24066483</td>\n",
              "    </tr>\n",
              "    <tr>\n",
              "      <th>23</th>\n",
              "      <td>23530170</td>\n",
              "    </tr>\n",
              "    <tr>\n",
              "      <th>24</th>\n",
              "      <td>25114560</td>\n",
              "    </tr>\n",
              "    <tr>\n",
              "      <th>25</th>\n",
              "      <td>23823420</td>\n",
              "    </tr>\n",
              "    <tr>\n",
              "      <th>26</th>\n",
              "      <td>24260213</td>\n",
              "    </tr>\n",
              "    <tr>\n",
              "      <th>27</th>\n",
              "      <td>24304258</td>\n",
              "    </tr>\n",
              "    <tr>\n",
              "      <th>28</th>\n",
              "      <td>23920887</td>\n",
              "    </tr>\n",
              "    <tr>\n",
              "      <th>29</th>\n",
              "      <td>23792464</td>\n",
              "    </tr>\n",
              "    <tr>\n",
              "      <th>30</th>\n",
              "      <td>24693376</td>\n",
              "    </tr>\n",
              "    <tr>\n",
              "      <th>31</th>\n",
              "      <td>23289663</td>\n",
              "    </tr>\n",
              "    <tr>\n",
              "      <th>32</th>\n",
              "      <td>24512036</td>\n",
              "    </tr>\n",
              "    <tr>\n",
              "      <th>33</th>\n",
              "      <td>23388319</td>\n",
              "    </tr>\n",
              "    <tr>\n",
              "      <th>34</th>\n",
              "      <td>23898586</td>\n",
              "    </tr>\n",
              "    <tr>\n",
              "      <th>35</th>\n",
              "      <td>23800087</td>\n",
              "    </tr>\n",
              "  </tbody>\n",
              "</table>\n",
              "</div>\n",
              "    <div class=\"colab-df-buttons\">\n",
              "\n",
              "  <div class=\"colab-df-container\">\n",
              "    <button class=\"colab-df-convert\" onclick=\"convertToInteractive('df-fb27c8d7-a787-4e74-9ec3-a62dc87d1e7b')\"\n",
              "            title=\"Convert this dataframe to an interactive table.\"\n",
              "            style=\"display:none;\">\n",
              "\n",
              "  <svg xmlns=\"http://www.w3.org/2000/svg\" height=\"24px\" viewBox=\"0 -960 960 960\">\n",
              "    <path d=\"M120-120v-720h720v720H120Zm60-500h600v-160H180v160Zm220 220h160v-160H400v160Zm0 220h160v-160H400v160ZM180-400h160v-160H180v160Zm440 0h160v-160H620v160ZM180-180h160v-160H180v160Zm440 0h160v-160H620v160Z\"/>\n",
              "  </svg>\n",
              "    </button>\n",
              "\n",
              "  <style>\n",
              "    .colab-df-container {\n",
              "      display:flex;\n",
              "      gap: 12px;\n",
              "    }\n",
              "\n",
              "    .colab-df-convert {\n",
              "      background-color: #E8F0FE;\n",
              "      border: none;\n",
              "      border-radius: 50%;\n",
              "      cursor: pointer;\n",
              "      display: none;\n",
              "      fill: #1967D2;\n",
              "      height: 32px;\n",
              "      padding: 0 0 0 0;\n",
              "      width: 32px;\n",
              "    }\n",
              "\n",
              "    .colab-df-convert:hover {\n",
              "      background-color: #E2EBFA;\n",
              "      box-shadow: 0px 1px 2px rgba(60, 64, 67, 0.3), 0px 1px 3px 1px rgba(60, 64, 67, 0.15);\n",
              "      fill: #174EA6;\n",
              "    }\n",
              "\n",
              "    .colab-df-buttons div {\n",
              "      margin-bottom: 4px;\n",
              "    }\n",
              "\n",
              "    [theme=dark] .colab-df-convert {\n",
              "      background-color: #3B4455;\n",
              "      fill: #D2E3FC;\n",
              "    }\n",
              "\n",
              "    [theme=dark] .colab-df-convert:hover {\n",
              "      background-color: #434B5C;\n",
              "      box-shadow: 0px 1px 3px 1px rgba(0, 0, 0, 0.15);\n",
              "      filter: drop-shadow(0px 1px 2px rgba(0, 0, 0, 0.3));\n",
              "      fill: #FFFFFF;\n",
              "    }\n",
              "  </style>\n",
              "\n",
              "    <script>\n",
              "      const buttonEl =\n",
              "        document.querySelector('#df-fb27c8d7-a787-4e74-9ec3-a62dc87d1e7b button.colab-df-convert');\n",
              "      buttonEl.style.display =\n",
              "        google.colab.kernel.accessAllowed ? 'block' : 'none';\n",
              "\n",
              "      async function convertToInteractive(key) {\n",
              "        const element = document.querySelector('#df-fb27c8d7-a787-4e74-9ec3-a62dc87d1e7b');\n",
              "        const dataTable =\n",
              "          await google.colab.kernel.invokeFunction('convertToInteractive',\n",
              "                                                    [key], {});\n",
              "        if (!dataTable) return;\n",
              "\n",
              "        const docLinkHtml = 'Like what you see? Visit the ' +\n",
              "          '<a target=\"_blank\" href=https://colab.research.google.com/notebooks/data_table.ipynb>data table notebook</a>'\n",
              "          + ' to learn more about interactive tables.';\n",
              "        element.innerHTML = '';\n",
              "        dataTable['output_type'] = 'display_data';\n",
              "        await google.colab.output.renderOutput(dataTable, element);\n",
              "        const docLink = document.createElement('div');\n",
              "        docLink.innerHTML = docLinkHtml;\n",
              "        element.appendChild(docLink);\n",
              "      }\n",
              "    </script>\n",
              "  </div>\n",
              "\n",
              "\n",
              "<div id=\"df-6f795297-de6b-45af-9a42-b9bdb2db8e77\">\n",
              "  <button class=\"colab-df-quickchart\" onclick=\"quickchart('df-6f795297-de6b-45af-9a42-b9bdb2db8e77')\"\n",
              "            title=\"Suggest charts\"\n",
              "            style=\"display:none;\">\n",
              "\n",
              "<svg xmlns=\"http://www.w3.org/2000/svg\" height=\"24px\"viewBox=\"0 0 24 24\"\n",
              "     width=\"24px\">\n",
              "    <g>\n",
              "        <path d=\"M19 3H5c-1.1 0-2 .9-2 2v14c0 1.1.9 2 2 2h14c1.1 0 2-.9 2-2V5c0-1.1-.9-2-2-2zM9 17H7v-7h2v7zm4 0h-2V7h2v10zm4 0h-2v-4h2v4z\"/>\n",
              "    </g>\n",
              "</svg>\n",
              "  </button>\n",
              "\n",
              "<style>\n",
              "  .colab-df-quickchart {\n",
              "      --bg-color: #E8F0FE;\n",
              "      --fill-color: #1967D2;\n",
              "      --hover-bg-color: #E2EBFA;\n",
              "      --hover-fill-color: #174EA6;\n",
              "      --disabled-fill-color: #AAA;\n",
              "      --disabled-bg-color: #DDD;\n",
              "  }\n",
              "\n",
              "  [theme=dark] .colab-df-quickchart {\n",
              "      --bg-color: #3B4455;\n",
              "      --fill-color: #D2E3FC;\n",
              "      --hover-bg-color: #434B5C;\n",
              "      --hover-fill-color: #FFFFFF;\n",
              "      --disabled-bg-color: #3B4455;\n",
              "      --disabled-fill-color: #666;\n",
              "  }\n",
              "\n",
              "  .colab-df-quickchart {\n",
              "    background-color: var(--bg-color);\n",
              "    border: none;\n",
              "    border-radius: 50%;\n",
              "    cursor: pointer;\n",
              "    display: none;\n",
              "    fill: var(--fill-color);\n",
              "    height: 32px;\n",
              "    padding: 0;\n",
              "    width: 32px;\n",
              "  }\n",
              "\n",
              "  .colab-df-quickchart:hover {\n",
              "    background-color: var(--hover-bg-color);\n",
              "    box-shadow: 0 1px 2px rgba(60, 64, 67, 0.3), 0 1px 3px 1px rgba(60, 64, 67, 0.15);\n",
              "    fill: var(--button-hover-fill-color);\n",
              "  }\n",
              "\n",
              "  .colab-df-quickchart-complete:disabled,\n",
              "  .colab-df-quickchart-complete:disabled:hover {\n",
              "    background-color: var(--disabled-bg-color);\n",
              "    fill: var(--disabled-fill-color);\n",
              "    box-shadow: none;\n",
              "  }\n",
              "\n",
              "  .colab-df-spinner {\n",
              "    border: 2px solid var(--fill-color);\n",
              "    border-color: transparent;\n",
              "    border-bottom-color: var(--fill-color);\n",
              "    animation:\n",
              "      spin 1s steps(1) infinite;\n",
              "  }\n",
              "\n",
              "  @keyframes spin {\n",
              "    0% {\n",
              "      border-color: transparent;\n",
              "      border-bottom-color: var(--fill-color);\n",
              "      border-left-color: var(--fill-color);\n",
              "    }\n",
              "    20% {\n",
              "      border-color: transparent;\n",
              "      border-left-color: var(--fill-color);\n",
              "      border-top-color: var(--fill-color);\n",
              "    }\n",
              "    30% {\n",
              "      border-color: transparent;\n",
              "      border-left-color: var(--fill-color);\n",
              "      border-top-color: var(--fill-color);\n",
              "      border-right-color: var(--fill-color);\n",
              "    }\n",
              "    40% {\n",
              "      border-color: transparent;\n",
              "      border-right-color: var(--fill-color);\n",
              "      border-top-color: var(--fill-color);\n",
              "    }\n",
              "    60% {\n",
              "      border-color: transparent;\n",
              "      border-right-color: var(--fill-color);\n",
              "    }\n",
              "    80% {\n",
              "      border-color: transparent;\n",
              "      border-right-color: var(--fill-color);\n",
              "      border-bottom-color: var(--fill-color);\n",
              "    }\n",
              "    90% {\n",
              "      border-color: transparent;\n",
              "      border-bottom-color: var(--fill-color);\n",
              "    }\n",
              "  }\n",
              "</style>\n",
              "\n",
              "  <script>\n",
              "    async function quickchart(key) {\n",
              "      const quickchartButtonEl =\n",
              "        document.querySelector('#' + key + ' button');\n",
              "      quickchartButtonEl.disabled = true;  // To prevent multiple clicks.\n",
              "      quickchartButtonEl.classList.add('colab-df-spinner');\n",
              "      try {\n",
              "        const charts = await google.colab.kernel.invokeFunction(\n",
              "            'suggestCharts', [key], {});\n",
              "      } catch (error) {\n",
              "        console.error('Error during call to suggestCharts:', error);\n",
              "      }\n",
              "      quickchartButtonEl.classList.remove('colab-df-spinner');\n",
              "      quickchartButtonEl.classList.add('colab-df-quickchart-complete');\n",
              "    }\n",
              "    (() => {\n",
              "      let quickchartButtonEl =\n",
              "        document.querySelector('#df-6f795297-de6b-45af-9a42-b9bdb2db8e77 button');\n",
              "      quickchartButtonEl.style.display =\n",
              "        google.colab.kernel.accessAllowed ? 'block' : 'none';\n",
              "    })();\n",
              "  </script>\n",
              "</div>\n",
              "    </div>\n",
              "  </div>\n"
            ],
            "application/vnd.google.colaboratory.intrinsic+json": {
              "type": "dataframe",
              "variable_name": "pmids",
              "summary": "{\n  \"name\": \"pmids\",\n  \"rows\": 36,\n  \"fields\": [\n    {\n      \"column\": \"pmid\",\n      \"properties\": {\n        \"dtype\": \"string\",\n        \"num_unique_values\": 36,\n        \"samples\": [\n          \"23800087\",\n          \"23836737\",\n          \"24260213\"\n        ],\n        \"semantic_type\": \"\",\n        \"description\": \"\"\n      }\n    }\n  ]\n}"
            }
          },
          "metadata": {},
          "execution_count": 18
        }
      ]
    },
    {
      "cell_type": "markdown",
      "source": [
        "β) Τίτλοι 20 πρώτων άρθρων:"
      ],
      "metadata": {
        "id": "pCNcNqFuRL5C"
      }
    },
    {
      "cell_type": "code",
      "source": [
        "# Convert the 'pmid' column to integer type\n",
        "lol = pmids['pmid'].astype(int)"
      ],
      "metadata": {
        "id": "31l0WbmVVrag"
      },
      "execution_count": 28,
      "outputs": []
    },
    {
      "cell_type": "code",
      "source": [
        "# get title for each article:\n",
        "titles = {}\n",
        "\n",
        "for pmid in lol:\n",
        "    try:\n",
        "        # Fetch the article title for each PubMed ID\n",
        "        title = fetch.article_by_pmid(pmid).title\n",
        "\n",
        "        # Dictionary\n",
        "        titles[pmid] = title\n",
        "    except Exception as e:\n",
        "        # Handle errors gracefully (you may want to log or display the error)\n",
        "        print(f\"Error fetching title for PMID {pmid}: {e}\")\n",
        "\n",
        "# Convert the dictionary to a DataFrame\n",
        "Title = pd.DataFrame(list(titles.items()), columns=['pmid', 'Title'])"
      ],
      "metadata": {
        "id": "SBwaFcBsRAZZ"
      },
      "execution_count": 31,
      "outputs": []
    },
    {
      "cell_type": "code",
      "source": [
        "Titles = Title.head(20)"
      ],
      "metadata": {
        "id": "izBeFH9RWBVy"
      },
      "execution_count": 33,
      "outputs": []
    },
    {
      "cell_type": "code",
      "source": [
        "Titles"
      ],
      "metadata": {
        "colab": {
          "base_uri": "https://localhost:8080/",
          "height": 677
        },
        "id": "5VuQ-jHnWJsd",
        "outputId": "1a36a96f-f04f-494a-95eb-272a07b8cd73"
      },
      "execution_count": 35,
      "outputs": [
        {
          "output_type": "execute_result",
          "data": {
            "text/plain": [
              "        pmid                                              Title\n",
              "0   23708439  e-Prescribing: characterisation of patient saf...\n",
              "1   24261370  Optimizing radiologist e-prescribing of CT ora...\n",
              "2   24371892  E-prescribing controlled substances moves clos...\n",
              "3   24088212  Patient safety perspectives of providers and n...\n",
              "4   23335961  Investigating and learning lessons from early ...\n",
              "5   24116250  Correction: Investigating and Learning Lessons...\n",
              "6   23940467  Physicians and pharmacists call for more rapid...\n",
              "7   23714550  Perspectives on electronic prescribing and ter...\n",
              "8   24416945  The effects of electronic prescribing by commu...\n",
              "9   23823360  The new Greek national e-prescription system: ...\n",
              "10  23591784  A comprehensive e-prescribing model to allow r...\n",
              "11  23062769  E-prescribing: a focused review and new approa...\n",
              "12  23530183  Electronic prescribing in pediatrics: toward s...\n",
              "13  23836737  E-prescribing adoption and use increased subst...\n",
              "14  23773693  In-hospital mortality and length of stay in pa...\n",
              "15  24377142  Population-based medication adherence programm...\n",
              "16  23855249  How automation helps steer the revenue cycle p...\n",
              "17  24485245  Evaluating the adoption of e-prescribing in pr...\n",
              "18  23355460  Factors that physicians find encouraging and d...\n",
              "19  24139361  An update of dermatologist usage of the Physic..."
            ],
            "text/html": [
              "\n",
              "  <div id=\"df-51f466b9-55b9-4268-82e4-93b1d4e395e1\" class=\"colab-df-container\">\n",
              "    <div>\n",
              "<style scoped>\n",
              "    .dataframe tbody tr th:only-of-type {\n",
              "        vertical-align: middle;\n",
              "    }\n",
              "\n",
              "    .dataframe tbody tr th {\n",
              "        vertical-align: top;\n",
              "    }\n",
              "\n",
              "    .dataframe thead th {\n",
              "        text-align: right;\n",
              "    }\n",
              "</style>\n",
              "<table border=\"1\" class=\"dataframe\">\n",
              "  <thead>\n",
              "    <tr style=\"text-align: right;\">\n",
              "      <th></th>\n",
              "      <th>pmid</th>\n",
              "      <th>Title</th>\n",
              "    </tr>\n",
              "  </thead>\n",
              "  <tbody>\n",
              "    <tr>\n",
              "      <th>0</th>\n",
              "      <td>23708439</td>\n",
              "      <td>e-Prescribing: characterisation of patient saf...</td>\n",
              "    </tr>\n",
              "    <tr>\n",
              "      <th>1</th>\n",
              "      <td>24261370</td>\n",
              "      <td>Optimizing radiologist e-prescribing of CT ora...</td>\n",
              "    </tr>\n",
              "    <tr>\n",
              "      <th>2</th>\n",
              "      <td>24371892</td>\n",
              "      <td>E-prescribing controlled substances moves clos...</td>\n",
              "    </tr>\n",
              "    <tr>\n",
              "      <th>3</th>\n",
              "      <td>24088212</td>\n",
              "      <td>Patient safety perspectives of providers and n...</td>\n",
              "    </tr>\n",
              "    <tr>\n",
              "      <th>4</th>\n",
              "      <td>23335961</td>\n",
              "      <td>Investigating and learning lessons from early ...</td>\n",
              "    </tr>\n",
              "    <tr>\n",
              "      <th>5</th>\n",
              "      <td>24116250</td>\n",
              "      <td>Correction: Investigating and Learning Lessons...</td>\n",
              "    </tr>\n",
              "    <tr>\n",
              "      <th>6</th>\n",
              "      <td>23940467</td>\n",
              "      <td>Physicians and pharmacists call for more rapid...</td>\n",
              "    </tr>\n",
              "    <tr>\n",
              "      <th>7</th>\n",
              "      <td>23714550</td>\n",
              "      <td>Perspectives on electronic prescribing and ter...</td>\n",
              "    </tr>\n",
              "    <tr>\n",
              "      <th>8</th>\n",
              "      <td>24416945</td>\n",
              "      <td>The effects of electronic prescribing by commu...</td>\n",
              "    </tr>\n",
              "    <tr>\n",
              "      <th>9</th>\n",
              "      <td>23823360</td>\n",
              "      <td>The new Greek national e-prescription system: ...</td>\n",
              "    </tr>\n",
              "    <tr>\n",
              "      <th>10</th>\n",
              "      <td>23591784</td>\n",
              "      <td>A comprehensive e-prescribing model to allow r...</td>\n",
              "    </tr>\n",
              "    <tr>\n",
              "      <th>11</th>\n",
              "      <td>23062769</td>\n",
              "      <td>E-prescribing: a focused review and new approa...</td>\n",
              "    </tr>\n",
              "    <tr>\n",
              "      <th>12</th>\n",
              "      <td>23530183</td>\n",
              "      <td>Electronic prescribing in pediatrics: toward s...</td>\n",
              "    </tr>\n",
              "    <tr>\n",
              "      <th>13</th>\n",
              "      <td>23836737</td>\n",
              "      <td>E-prescribing adoption and use increased subst...</td>\n",
              "    </tr>\n",
              "    <tr>\n",
              "      <th>14</th>\n",
              "      <td>23773693</td>\n",
              "      <td>In-hospital mortality and length of stay in pa...</td>\n",
              "    </tr>\n",
              "    <tr>\n",
              "      <th>15</th>\n",
              "      <td>24377142</td>\n",
              "      <td>Population-based medication adherence programm...</td>\n",
              "    </tr>\n",
              "    <tr>\n",
              "      <th>16</th>\n",
              "      <td>23855249</td>\n",
              "      <td>How automation helps steer the revenue cycle p...</td>\n",
              "    </tr>\n",
              "    <tr>\n",
              "      <th>17</th>\n",
              "      <td>24485245</td>\n",
              "      <td>Evaluating the adoption of e-prescribing in pr...</td>\n",
              "    </tr>\n",
              "    <tr>\n",
              "      <th>18</th>\n",
              "      <td>23355460</td>\n",
              "      <td>Factors that physicians find encouraging and d...</td>\n",
              "    </tr>\n",
              "    <tr>\n",
              "      <th>19</th>\n",
              "      <td>24139361</td>\n",
              "      <td>An update of dermatologist usage of the Physic...</td>\n",
              "    </tr>\n",
              "  </tbody>\n",
              "</table>\n",
              "</div>\n",
              "    <div class=\"colab-df-buttons\">\n",
              "\n",
              "  <div class=\"colab-df-container\">\n",
              "    <button class=\"colab-df-convert\" onclick=\"convertToInteractive('df-51f466b9-55b9-4268-82e4-93b1d4e395e1')\"\n",
              "            title=\"Convert this dataframe to an interactive table.\"\n",
              "            style=\"display:none;\">\n",
              "\n",
              "  <svg xmlns=\"http://www.w3.org/2000/svg\" height=\"24px\" viewBox=\"0 -960 960 960\">\n",
              "    <path d=\"M120-120v-720h720v720H120Zm60-500h600v-160H180v160Zm220 220h160v-160H400v160Zm0 220h160v-160H400v160ZM180-400h160v-160H180v160Zm440 0h160v-160H620v160ZM180-180h160v-160H180v160Zm440 0h160v-160H620v160Z\"/>\n",
              "  </svg>\n",
              "    </button>\n",
              "\n",
              "  <style>\n",
              "    .colab-df-container {\n",
              "      display:flex;\n",
              "      gap: 12px;\n",
              "    }\n",
              "\n",
              "    .colab-df-convert {\n",
              "      background-color: #E8F0FE;\n",
              "      border: none;\n",
              "      border-radius: 50%;\n",
              "      cursor: pointer;\n",
              "      display: none;\n",
              "      fill: #1967D2;\n",
              "      height: 32px;\n",
              "      padding: 0 0 0 0;\n",
              "      width: 32px;\n",
              "    }\n",
              "\n",
              "    .colab-df-convert:hover {\n",
              "      background-color: #E2EBFA;\n",
              "      box-shadow: 0px 1px 2px rgba(60, 64, 67, 0.3), 0px 1px 3px 1px rgba(60, 64, 67, 0.15);\n",
              "      fill: #174EA6;\n",
              "    }\n",
              "\n",
              "    .colab-df-buttons div {\n",
              "      margin-bottom: 4px;\n",
              "    }\n",
              "\n",
              "    [theme=dark] .colab-df-convert {\n",
              "      background-color: #3B4455;\n",
              "      fill: #D2E3FC;\n",
              "    }\n",
              "\n",
              "    [theme=dark] .colab-df-convert:hover {\n",
              "      background-color: #434B5C;\n",
              "      box-shadow: 0px 1px 3px 1px rgba(0, 0, 0, 0.15);\n",
              "      filter: drop-shadow(0px 1px 2px rgba(0, 0, 0, 0.3));\n",
              "      fill: #FFFFFF;\n",
              "    }\n",
              "  </style>\n",
              "\n",
              "    <script>\n",
              "      const buttonEl =\n",
              "        document.querySelector('#df-51f466b9-55b9-4268-82e4-93b1d4e395e1 button.colab-df-convert');\n",
              "      buttonEl.style.display =\n",
              "        google.colab.kernel.accessAllowed ? 'block' : 'none';\n",
              "\n",
              "      async function convertToInteractive(key) {\n",
              "        const element = document.querySelector('#df-51f466b9-55b9-4268-82e4-93b1d4e395e1');\n",
              "        const dataTable =\n",
              "          await google.colab.kernel.invokeFunction('convertToInteractive',\n",
              "                                                    [key], {});\n",
              "        if (!dataTable) return;\n",
              "\n",
              "        const docLinkHtml = 'Like what you see? Visit the ' +\n",
              "          '<a target=\"_blank\" href=https://colab.research.google.com/notebooks/data_table.ipynb>data table notebook</a>'\n",
              "          + ' to learn more about interactive tables.';\n",
              "        element.innerHTML = '';\n",
              "        dataTable['output_type'] = 'display_data';\n",
              "        await google.colab.output.renderOutput(dataTable, element);\n",
              "        const docLink = document.createElement('div');\n",
              "        docLink.innerHTML = docLinkHtml;\n",
              "        element.appendChild(docLink);\n",
              "      }\n",
              "    </script>\n",
              "  </div>\n",
              "\n",
              "\n",
              "<div id=\"df-15586d7f-9435-47b2-acc2-f4796c39cf62\">\n",
              "  <button class=\"colab-df-quickchart\" onclick=\"quickchart('df-15586d7f-9435-47b2-acc2-f4796c39cf62')\"\n",
              "            title=\"Suggest charts\"\n",
              "            style=\"display:none;\">\n",
              "\n",
              "<svg xmlns=\"http://www.w3.org/2000/svg\" height=\"24px\"viewBox=\"0 0 24 24\"\n",
              "     width=\"24px\">\n",
              "    <g>\n",
              "        <path d=\"M19 3H5c-1.1 0-2 .9-2 2v14c0 1.1.9 2 2 2h14c1.1 0 2-.9 2-2V5c0-1.1-.9-2-2-2zM9 17H7v-7h2v7zm4 0h-2V7h2v10zm4 0h-2v-4h2v4z\"/>\n",
              "    </g>\n",
              "</svg>\n",
              "  </button>\n",
              "\n",
              "<style>\n",
              "  .colab-df-quickchart {\n",
              "      --bg-color: #E8F0FE;\n",
              "      --fill-color: #1967D2;\n",
              "      --hover-bg-color: #E2EBFA;\n",
              "      --hover-fill-color: #174EA6;\n",
              "      --disabled-fill-color: #AAA;\n",
              "      --disabled-bg-color: #DDD;\n",
              "  }\n",
              "\n",
              "  [theme=dark] .colab-df-quickchart {\n",
              "      --bg-color: #3B4455;\n",
              "      --fill-color: #D2E3FC;\n",
              "      --hover-bg-color: #434B5C;\n",
              "      --hover-fill-color: #FFFFFF;\n",
              "      --disabled-bg-color: #3B4455;\n",
              "      --disabled-fill-color: #666;\n",
              "  }\n",
              "\n",
              "  .colab-df-quickchart {\n",
              "    background-color: var(--bg-color);\n",
              "    border: none;\n",
              "    border-radius: 50%;\n",
              "    cursor: pointer;\n",
              "    display: none;\n",
              "    fill: var(--fill-color);\n",
              "    height: 32px;\n",
              "    padding: 0;\n",
              "    width: 32px;\n",
              "  }\n",
              "\n",
              "  .colab-df-quickchart:hover {\n",
              "    background-color: var(--hover-bg-color);\n",
              "    box-shadow: 0 1px 2px rgba(60, 64, 67, 0.3), 0 1px 3px 1px rgba(60, 64, 67, 0.15);\n",
              "    fill: var(--button-hover-fill-color);\n",
              "  }\n",
              "\n",
              "  .colab-df-quickchart-complete:disabled,\n",
              "  .colab-df-quickchart-complete:disabled:hover {\n",
              "    background-color: var(--disabled-bg-color);\n",
              "    fill: var(--disabled-fill-color);\n",
              "    box-shadow: none;\n",
              "  }\n",
              "\n",
              "  .colab-df-spinner {\n",
              "    border: 2px solid var(--fill-color);\n",
              "    border-color: transparent;\n",
              "    border-bottom-color: var(--fill-color);\n",
              "    animation:\n",
              "      spin 1s steps(1) infinite;\n",
              "  }\n",
              "\n",
              "  @keyframes spin {\n",
              "    0% {\n",
              "      border-color: transparent;\n",
              "      border-bottom-color: var(--fill-color);\n",
              "      border-left-color: var(--fill-color);\n",
              "    }\n",
              "    20% {\n",
              "      border-color: transparent;\n",
              "      border-left-color: var(--fill-color);\n",
              "      border-top-color: var(--fill-color);\n",
              "    }\n",
              "    30% {\n",
              "      border-color: transparent;\n",
              "      border-left-color: var(--fill-color);\n",
              "      border-top-color: var(--fill-color);\n",
              "      border-right-color: var(--fill-color);\n",
              "    }\n",
              "    40% {\n",
              "      border-color: transparent;\n",
              "      border-right-color: var(--fill-color);\n",
              "      border-top-color: var(--fill-color);\n",
              "    }\n",
              "    60% {\n",
              "      border-color: transparent;\n",
              "      border-right-color: var(--fill-color);\n",
              "    }\n",
              "    80% {\n",
              "      border-color: transparent;\n",
              "      border-right-color: var(--fill-color);\n",
              "      border-bottom-color: var(--fill-color);\n",
              "    }\n",
              "    90% {\n",
              "      border-color: transparent;\n",
              "      border-bottom-color: var(--fill-color);\n",
              "    }\n",
              "  }\n",
              "</style>\n",
              "\n",
              "  <script>\n",
              "    async function quickchart(key) {\n",
              "      const quickchartButtonEl =\n",
              "        document.querySelector('#' + key + ' button');\n",
              "      quickchartButtonEl.disabled = true;  // To prevent multiple clicks.\n",
              "      quickchartButtonEl.classList.add('colab-df-spinner');\n",
              "      try {\n",
              "        const charts = await google.colab.kernel.invokeFunction(\n",
              "            'suggestCharts', [key], {});\n",
              "      } catch (error) {\n",
              "        console.error('Error during call to suggestCharts:', error);\n",
              "      }\n",
              "      quickchartButtonEl.classList.remove('colab-df-spinner');\n",
              "      quickchartButtonEl.classList.add('colab-df-quickchart-complete');\n",
              "    }\n",
              "    (() => {\n",
              "      let quickchartButtonEl =\n",
              "        document.querySelector('#df-15586d7f-9435-47b2-acc2-f4796c39cf62 button');\n",
              "      quickchartButtonEl.style.display =\n",
              "        google.colab.kernel.accessAllowed ? 'block' : 'none';\n",
              "    })();\n",
              "  </script>\n",
              "</div>\n",
              "    </div>\n",
              "  </div>\n"
            ],
            "application/vnd.google.colaboratory.intrinsic+json": {
              "type": "dataframe",
              "variable_name": "Titles",
              "summary": "{\n  \"name\": \"Titles\",\n  \"rows\": 20,\n  \"fields\": [\n    {\n      \"column\": \"pmid\",\n      \"properties\": {\n        \"dtype\": \"number\",\n        \"std\": 395753,\n        \"min\": 23062769,\n        \"max\": 24485245,\n        \"num_unique_values\": 20,\n        \"samples\": [\n          23708439,\n          24485245,\n          24377142\n        ],\n        \"semantic_type\": \"\",\n        \"description\": \"\"\n      }\n    },\n    {\n      \"column\": \"Title\",\n      \"properties\": {\n        \"dtype\": \"string\",\n        \"num_unique_values\": 20,\n        \"samples\": [\n          \"e-Prescribing: characterisation of patient safety hazards in community pharmacies using a sociotechnical systems approach.\",\n          \"Evaluating the adoption of e-prescribing in primary care.\",\n          \"Population-based medication adherence programmes: a window of opportunities.\"\n        ],\n        \"semantic_type\": \"\",\n        \"description\": \"\"\n      }\n    }\n  ]\n}"
            }
          },
          "metadata": {},
          "execution_count": 35
        }
      ]
    },
    {
      "cell_type": "markdown",
      "source": [
        "γ) Περιλήψεις των 4 τελευταίων:"
      ],
      "metadata": {
        "id": "uBjHdfz92FeU"
      }
    },
    {
      "cell_type": "code",
      "source": [
        "abstracts = {}\n",
        "for pmid in lol.tail(4):\n",
        "    abstracts[pmid] = fetch.article_by_pmid(pmid).abstract\n",
        "Abstract = pd.DataFrame(list(abstracts.items()),columns = ['pmid','Abstract'])\n",
        "Abstract"
      ],
      "metadata": {
        "colab": {
          "base_uri": "https://localhost:8080/",
          "height": 175
        },
        "id": "kvO7FgNdW1sw",
        "outputId": "e775005d-1993-4935-96ac-c7b9dda10b87"
      },
      "execution_count": 37,
      "outputs": [
        {
          "output_type": "execute_result",
          "data": {
            "text/plain": [
              "       pmid                                           Abstract\n",
              "0  24512036  OBJECTIVES: To investigate differences before ...\n",
              "1  23388319  Electronic prescribing (e-prescribing) is expe...\n",
              "2  23898586                                               None\n",
              "3  23800087  OBJECTIVE: To describe small area variation in..."
            ],
            "text/html": [
              "\n",
              "  <div id=\"df-0100c853-6612-48ea-ad0d-c50d67c3f3b9\" class=\"colab-df-container\">\n",
              "    <div>\n",
              "<style scoped>\n",
              "    .dataframe tbody tr th:only-of-type {\n",
              "        vertical-align: middle;\n",
              "    }\n",
              "\n",
              "    .dataframe tbody tr th {\n",
              "        vertical-align: top;\n",
              "    }\n",
              "\n",
              "    .dataframe thead th {\n",
              "        text-align: right;\n",
              "    }\n",
              "</style>\n",
              "<table border=\"1\" class=\"dataframe\">\n",
              "  <thead>\n",
              "    <tr style=\"text-align: right;\">\n",
              "      <th></th>\n",
              "      <th>pmid</th>\n",
              "      <th>Abstract</th>\n",
              "    </tr>\n",
              "  </thead>\n",
              "  <tbody>\n",
              "    <tr>\n",
              "      <th>0</th>\n",
              "      <td>24512036</td>\n",
              "      <td>OBJECTIVES: To investigate differences before ...</td>\n",
              "    </tr>\n",
              "    <tr>\n",
              "      <th>1</th>\n",
              "      <td>23388319</td>\n",
              "      <td>Electronic prescribing (e-prescribing) is expe...</td>\n",
              "    </tr>\n",
              "    <tr>\n",
              "      <th>2</th>\n",
              "      <td>23898586</td>\n",
              "      <td>None</td>\n",
              "    </tr>\n",
              "    <tr>\n",
              "      <th>3</th>\n",
              "      <td>23800087</td>\n",
              "      <td>OBJECTIVE: To describe small area variation in...</td>\n",
              "    </tr>\n",
              "  </tbody>\n",
              "</table>\n",
              "</div>\n",
              "    <div class=\"colab-df-buttons\">\n",
              "\n",
              "  <div class=\"colab-df-container\">\n",
              "    <button class=\"colab-df-convert\" onclick=\"convertToInteractive('df-0100c853-6612-48ea-ad0d-c50d67c3f3b9')\"\n",
              "            title=\"Convert this dataframe to an interactive table.\"\n",
              "            style=\"display:none;\">\n",
              "\n",
              "  <svg xmlns=\"http://www.w3.org/2000/svg\" height=\"24px\" viewBox=\"0 -960 960 960\">\n",
              "    <path d=\"M120-120v-720h720v720H120Zm60-500h600v-160H180v160Zm220 220h160v-160H400v160Zm0 220h160v-160H400v160ZM180-400h160v-160H180v160Zm440 0h160v-160H620v160ZM180-180h160v-160H180v160Zm440 0h160v-160H620v160Z\"/>\n",
              "  </svg>\n",
              "    </button>\n",
              "\n",
              "  <style>\n",
              "    .colab-df-container {\n",
              "      display:flex;\n",
              "      gap: 12px;\n",
              "    }\n",
              "\n",
              "    .colab-df-convert {\n",
              "      background-color: #E8F0FE;\n",
              "      border: none;\n",
              "      border-radius: 50%;\n",
              "      cursor: pointer;\n",
              "      display: none;\n",
              "      fill: #1967D2;\n",
              "      height: 32px;\n",
              "      padding: 0 0 0 0;\n",
              "      width: 32px;\n",
              "    }\n",
              "\n",
              "    .colab-df-convert:hover {\n",
              "      background-color: #E2EBFA;\n",
              "      box-shadow: 0px 1px 2px rgba(60, 64, 67, 0.3), 0px 1px 3px 1px rgba(60, 64, 67, 0.15);\n",
              "      fill: #174EA6;\n",
              "    }\n",
              "\n",
              "    .colab-df-buttons div {\n",
              "      margin-bottom: 4px;\n",
              "    }\n",
              "\n",
              "    [theme=dark] .colab-df-convert {\n",
              "      background-color: #3B4455;\n",
              "      fill: #D2E3FC;\n",
              "    }\n",
              "\n",
              "    [theme=dark] .colab-df-convert:hover {\n",
              "      background-color: #434B5C;\n",
              "      box-shadow: 0px 1px 3px 1px rgba(0, 0, 0, 0.15);\n",
              "      filter: drop-shadow(0px 1px 2px rgba(0, 0, 0, 0.3));\n",
              "      fill: #FFFFFF;\n",
              "    }\n",
              "  </style>\n",
              "\n",
              "    <script>\n",
              "      const buttonEl =\n",
              "        document.querySelector('#df-0100c853-6612-48ea-ad0d-c50d67c3f3b9 button.colab-df-convert');\n",
              "      buttonEl.style.display =\n",
              "        google.colab.kernel.accessAllowed ? 'block' : 'none';\n",
              "\n",
              "      async function convertToInteractive(key) {\n",
              "        const element = document.querySelector('#df-0100c853-6612-48ea-ad0d-c50d67c3f3b9');\n",
              "        const dataTable =\n",
              "          await google.colab.kernel.invokeFunction('convertToInteractive',\n",
              "                                                    [key], {});\n",
              "        if (!dataTable) return;\n",
              "\n",
              "        const docLinkHtml = 'Like what you see? Visit the ' +\n",
              "          '<a target=\"_blank\" href=https://colab.research.google.com/notebooks/data_table.ipynb>data table notebook</a>'\n",
              "          + ' to learn more about interactive tables.';\n",
              "        element.innerHTML = '';\n",
              "        dataTable['output_type'] = 'display_data';\n",
              "        await google.colab.output.renderOutput(dataTable, element);\n",
              "        const docLink = document.createElement('div');\n",
              "        docLink.innerHTML = docLinkHtml;\n",
              "        element.appendChild(docLink);\n",
              "      }\n",
              "    </script>\n",
              "  </div>\n",
              "\n",
              "\n",
              "<div id=\"df-ca98b151-9cfb-4ed1-9ee7-8f8bb1ad12da\">\n",
              "  <button class=\"colab-df-quickchart\" onclick=\"quickchart('df-ca98b151-9cfb-4ed1-9ee7-8f8bb1ad12da')\"\n",
              "            title=\"Suggest charts\"\n",
              "            style=\"display:none;\">\n",
              "\n",
              "<svg xmlns=\"http://www.w3.org/2000/svg\" height=\"24px\"viewBox=\"0 0 24 24\"\n",
              "     width=\"24px\">\n",
              "    <g>\n",
              "        <path d=\"M19 3H5c-1.1 0-2 .9-2 2v14c0 1.1.9 2 2 2h14c1.1 0 2-.9 2-2V5c0-1.1-.9-2-2-2zM9 17H7v-7h2v7zm4 0h-2V7h2v10zm4 0h-2v-4h2v4z\"/>\n",
              "    </g>\n",
              "</svg>\n",
              "  </button>\n",
              "\n",
              "<style>\n",
              "  .colab-df-quickchart {\n",
              "      --bg-color: #E8F0FE;\n",
              "      --fill-color: #1967D2;\n",
              "      --hover-bg-color: #E2EBFA;\n",
              "      --hover-fill-color: #174EA6;\n",
              "      --disabled-fill-color: #AAA;\n",
              "      --disabled-bg-color: #DDD;\n",
              "  }\n",
              "\n",
              "  [theme=dark] .colab-df-quickchart {\n",
              "      --bg-color: #3B4455;\n",
              "      --fill-color: #D2E3FC;\n",
              "      --hover-bg-color: #434B5C;\n",
              "      --hover-fill-color: #FFFFFF;\n",
              "      --disabled-bg-color: #3B4455;\n",
              "      --disabled-fill-color: #666;\n",
              "  }\n",
              "\n",
              "  .colab-df-quickchart {\n",
              "    background-color: var(--bg-color);\n",
              "    border: none;\n",
              "    border-radius: 50%;\n",
              "    cursor: pointer;\n",
              "    display: none;\n",
              "    fill: var(--fill-color);\n",
              "    height: 32px;\n",
              "    padding: 0;\n",
              "    width: 32px;\n",
              "  }\n",
              "\n",
              "  .colab-df-quickchart:hover {\n",
              "    background-color: var(--hover-bg-color);\n",
              "    box-shadow: 0 1px 2px rgba(60, 64, 67, 0.3), 0 1px 3px 1px rgba(60, 64, 67, 0.15);\n",
              "    fill: var(--button-hover-fill-color);\n",
              "  }\n",
              "\n",
              "  .colab-df-quickchart-complete:disabled,\n",
              "  .colab-df-quickchart-complete:disabled:hover {\n",
              "    background-color: var(--disabled-bg-color);\n",
              "    fill: var(--disabled-fill-color);\n",
              "    box-shadow: none;\n",
              "  }\n",
              "\n",
              "  .colab-df-spinner {\n",
              "    border: 2px solid var(--fill-color);\n",
              "    border-color: transparent;\n",
              "    border-bottom-color: var(--fill-color);\n",
              "    animation:\n",
              "      spin 1s steps(1) infinite;\n",
              "  }\n",
              "\n",
              "  @keyframes spin {\n",
              "    0% {\n",
              "      border-color: transparent;\n",
              "      border-bottom-color: var(--fill-color);\n",
              "      border-left-color: var(--fill-color);\n",
              "    }\n",
              "    20% {\n",
              "      border-color: transparent;\n",
              "      border-left-color: var(--fill-color);\n",
              "      border-top-color: var(--fill-color);\n",
              "    }\n",
              "    30% {\n",
              "      border-color: transparent;\n",
              "      border-left-color: var(--fill-color);\n",
              "      border-top-color: var(--fill-color);\n",
              "      border-right-color: var(--fill-color);\n",
              "    }\n",
              "    40% {\n",
              "      border-color: transparent;\n",
              "      border-right-color: var(--fill-color);\n",
              "      border-top-color: var(--fill-color);\n",
              "    }\n",
              "    60% {\n",
              "      border-color: transparent;\n",
              "      border-right-color: var(--fill-color);\n",
              "    }\n",
              "    80% {\n",
              "      border-color: transparent;\n",
              "      border-right-color: var(--fill-color);\n",
              "      border-bottom-color: var(--fill-color);\n",
              "    }\n",
              "    90% {\n",
              "      border-color: transparent;\n",
              "      border-bottom-color: var(--fill-color);\n",
              "    }\n",
              "  }\n",
              "</style>\n",
              "\n",
              "  <script>\n",
              "    async function quickchart(key) {\n",
              "      const quickchartButtonEl =\n",
              "        document.querySelector('#' + key + ' button');\n",
              "      quickchartButtonEl.disabled = true;  // To prevent multiple clicks.\n",
              "      quickchartButtonEl.classList.add('colab-df-spinner');\n",
              "      try {\n",
              "        const charts = await google.colab.kernel.invokeFunction(\n",
              "            'suggestCharts', [key], {});\n",
              "      } catch (error) {\n",
              "        console.error('Error during call to suggestCharts:', error);\n",
              "      }\n",
              "      quickchartButtonEl.classList.remove('colab-df-spinner');\n",
              "      quickchartButtonEl.classList.add('colab-df-quickchart-complete');\n",
              "    }\n",
              "    (() => {\n",
              "      let quickchartButtonEl =\n",
              "        document.querySelector('#df-ca98b151-9cfb-4ed1-9ee7-8f8bb1ad12da button');\n",
              "      quickchartButtonEl.style.display =\n",
              "        google.colab.kernel.accessAllowed ? 'block' : 'none';\n",
              "    })();\n",
              "  </script>\n",
              "</div>\n",
              "    </div>\n",
              "  </div>\n"
            ],
            "application/vnd.google.colaboratory.intrinsic+json": {
              "type": "dataframe",
              "variable_name": "Abstract",
              "summary": "{\n  \"name\": \"Abstract\",\n  \"rows\": 4,\n  \"fields\": [\n    {\n      \"column\": \"pmid\",\n      \"properties\": {\n        \"dtype\": \"number\",\n        \"std\": 464180,\n        \"min\": 23388319,\n        \"max\": 24512036,\n        \"num_unique_values\": 4,\n        \"samples\": [\n          23388319,\n          23800087,\n          24512036\n        ],\n        \"semantic_type\": \"\",\n        \"description\": \"\"\n      }\n    },\n    {\n      \"column\": \"Abstract\",\n      \"properties\": {\n        \"dtype\": \"string\",\n        \"num_unique_values\": 3,\n        \"samples\": [\n          \"OBJECTIVES: To investigate differences before and after rollout of electronic prescribing (e-prescribing) in (1) patients' primary adherence to newly prescribed medications, (2) patients' understanding of how to use their medications, and (3) multiple pharmacy use.\\nSTUDY DESIGN: Postvisit interviews and follow-up phone calls were done with 344 patients at an academic general internal medicine clinic.\\nMETHODS: Patient interviews and follow-up phone calls were done (1) before e-prescribing, (2) 1 to 6 months after e-prescribing, and (3) 12 to 18 months after e-prescribing.\\nRESULTS: Overall, rates of abandoned prescriptions were 6.9% before e-prescribing, 10.6% 1 to 6 months after e-prescribing, and 2.5% 12 to 18 months after e-prescribing (P = .07). There was a reduction in awareness of the indication for a newly prescribed medicine among patients after e-prescribing (95.4%, 97.9%, and 89.8%, respectively; P = .03). There was a decrease in patients' ability to demonstrate proper use of their new medicine after e-prescribing (69.0% before e-prescribing, 67.1% 1-6 months after e-prescribing, 51.9% 12 -18 months after e-prescribing; P = .02). There was an increasing trend in the percentage of patients using multiple pharmacies after e-prescribing was implemented.\\nCONCLUSIONS: We found both potential benefits and unexpected consequences as a result of the rollout of electronic prescribing. Adaptation to e-prescribing might be improved with outreach and education, including explicitly informing patients of the change during the first months of rollout. Tangible prescription information for reminder purposes only may also be beneficial.\",\n          \"Electronic prescribing (e-prescribing) is expected to bring many benefits to Canadian healthcare, such as a reduction in errors and adverse drug reactions. As there currently is no functioning e-prescribing system in Canada that is completely electronic, we are unable to evaluate the performance of a live system. An alternative approach is to use simulation modeling for evaluation. We developed two discrete-event simulation models, one of the current handwritten prescribing system and one of a proposed e-prescribing system, to compare the performance of these two systems. We were able to compare the number of processes in each model, workflow efficiency, and the distribution of patients or prescriptions. Although we were able to compare these models to each other, using discrete-event simulation software was challenging. We were limited in the number of variables we could measure. We discovered non-linear processes and feedback loops in both models that could not be adequately represented using discrete-event simulation software. Finally, interactions between entities in both models could not be modeled using this type of software. We have come to the conclusion that a more appropriate approach to modeling both the handwritten and electronic prescribing systems would be to use a complex adaptive systems approach using agent-based modeling or systems-based modeling.\",\n          \"OBJECTIVE: To describe small area variation in ambulatory electronic health record (EHR) adoption and assess evidence of a \\\"digital divide\\\" in whether adoption is lagging in traditionally underserved communities.\\nDATA SOURCES: Survey data on U.S. ambulatory health care sites (261,973 sites representing 716,160 providers) collected by SK&A Information Services in 2011.\\nSTUDY DESIGN: We examined cross-sectional variation in two measures of local area EHR adoption: share of providers at sites using an EHR with e-prescribing functionality; and predicted probability of EHR adoption for the average site. Local areas were defined as Public Use Microdata Areas (n\\u00a0=\\u00a02,068). Using multivariate regression, we examined the association between adoption and three area characteristics: high concentration of minority population; high concentration of low-income population; and metropolitan status.\\nPRINCIPAL FINDINGS: EHR adoption varied significantly across local areas, ranging from 8 to 88 percent with a median of 41 percent. Adoption was lower in large metropolitan areas; areas with high concentration of minority population in the Northeast and West; and areas with high concentration of low-income population in the Midwest.\\nCONCLUSIONS: Our 2011 estimates suggest there was substantial room for increased EHR adoption across the United States, including some underserved areas with relatively low EHR adoption rates. Further research should monitor policy initiatives in these areas and examine sources of heterogeneity in low- and high-adoption communities.\"\n        ],\n        \"semantic_type\": \"\",\n        \"description\": \"\"\n      }\n    }\n  ]\n}"
            }
          },
          "metadata": {},
          "execution_count": 37
        }
      ]
    },
    {
      "cell_type": "markdown",
      "source": [
        "## B' Μέρος"
      ],
      "metadata": {
        "id": "pEh1vL38AIUo"
      }
    },
    {
      "cell_type": "markdown",
      "source": [
        "1."
      ],
      "metadata": {
        "id": "u2gYLwbqX3Il"
      }
    },
    {
      "cell_type": "code",
      "source": [
        "data = pd.read_csv(\"icd10.csv\", header=0, sep=\";\")"
      ],
      "metadata": {
        "id": "bZ_YcrN9AL2m"
      },
      "execution_count": 55,
      "outputs": []
    },
    {
      "cell_type": "code",
      "source": [
        "data"
      ],
      "metadata": {
        "colab": {
          "base_uri": "https://localhost:8080/",
          "height": 424
        },
        "id": "LX_18YokcH2Y",
        "outputId": "f7031eba-fd70-45d3-e5ce-adff8c609227"
      },
      "execution_count": 58,
      "outputs": [
        {
          "output_type": "execute_result",
          "data": {
            "text/plain": [
              "        code                                               name\n",
              "0       A000  Cholera due to Vibrio cholerae 01, biovar chol...\n",
              "1       A001    Cholera due to Vibrio cholerae 01, biovar eltor\n",
              "2       A009                               Cholera, unspecified\n",
              "3      A0100                         Typhoid fever, unspecified\n",
              "4      A0101                                 Typhoid meningitis\n",
              "...      ...                                                ...\n",
              "71699  Z9912  Encounter for respirator dependence during pow...\n",
              "71700   Z992                       Dependence on renal dialysis\n",
              "71701   Z993                           Dependence on wheelchair\n",
              "71702  Z9981                  Dependence on supplemental oxygen\n",
              "71703  Z9989  Dependence on other enabling machines and devices\n",
              "\n",
              "[71704 rows x 2 columns]"
            ],
            "text/html": [
              "\n",
              "  <div id=\"df-91dc867b-c261-43b0-a11d-85223fc1ed79\" class=\"colab-df-container\">\n",
              "    <div>\n",
              "<style scoped>\n",
              "    .dataframe tbody tr th:only-of-type {\n",
              "        vertical-align: middle;\n",
              "    }\n",
              "\n",
              "    .dataframe tbody tr th {\n",
              "        vertical-align: top;\n",
              "    }\n",
              "\n",
              "    .dataframe thead th {\n",
              "        text-align: right;\n",
              "    }\n",
              "</style>\n",
              "<table border=\"1\" class=\"dataframe\">\n",
              "  <thead>\n",
              "    <tr style=\"text-align: right;\">\n",
              "      <th></th>\n",
              "      <th>code</th>\n",
              "      <th>name</th>\n",
              "    </tr>\n",
              "  </thead>\n",
              "  <tbody>\n",
              "    <tr>\n",
              "      <th>0</th>\n",
              "      <td>A000</td>\n",
              "      <td>Cholera due to Vibrio cholerae 01, biovar chol...</td>\n",
              "    </tr>\n",
              "    <tr>\n",
              "      <th>1</th>\n",
              "      <td>A001</td>\n",
              "      <td>Cholera due to Vibrio cholerae 01, biovar eltor</td>\n",
              "    </tr>\n",
              "    <tr>\n",
              "      <th>2</th>\n",
              "      <td>A009</td>\n",
              "      <td>Cholera, unspecified</td>\n",
              "    </tr>\n",
              "    <tr>\n",
              "      <th>3</th>\n",
              "      <td>A0100</td>\n",
              "      <td>Typhoid fever, unspecified</td>\n",
              "    </tr>\n",
              "    <tr>\n",
              "      <th>4</th>\n",
              "      <td>A0101</td>\n",
              "      <td>Typhoid meningitis</td>\n",
              "    </tr>\n",
              "    <tr>\n",
              "      <th>...</th>\n",
              "      <td>...</td>\n",
              "      <td>...</td>\n",
              "    </tr>\n",
              "    <tr>\n",
              "      <th>71699</th>\n",
              "      <td>Z9912</td>\n",
              "      <td>Encounter for respirator dependence during pow...</td>\n",
              "    </tr>\n",
              "    <tr>\n",
              "      <th>71700</th>\n",
              "      <td>Z992</td>\n",
              "      <td>Dependence on renal dialysis</td>\n",
              "    </tr>\n",
              "    <tr>\n",
              "      <th>71701</th>\n",
              "      <td>Z993</td>\n",
              "      <td>Dependence on wheelchair</td>\n",
              "    </tr>\n",
              "    <tr>\n",
              "      <th>71702</th>\n",
              "      <td>Z9981</td>\n",
              "      <td>Dependence on supplemental oxygen</td>\n",
              "    </tr>\n",
              "    <tr>\n",
              "      <th>71703</th>\n",
              "      <td>Z9989</td>\n",
              "      <td>Dependence on other enabling machines and devices</td>\n",
              "    </tr>\n",
              "  </tbody>\n",
              "</table>\n",
              "<p>71704 rows × 2 columns</p>\n",
              "</div>\n",
              "    <div class=\"colab-df-buttons\">\n",
              "\n",
              "  <div class=\"colab-df-container\">\n",
              "    <button class=\"colab-df-convert\" onclick=\"convertToInteractive('df-91dc867b-c261-43b0-a11d-85223fc1ed79')\"\n",
              "            title=\"Convert this dataframe to an interactive table.\"\n",
              "            style=\"display:none;\">\n",
              "\n",
              "  <svg xmlns=\"http://www.w3.org/2000/svg\" height=\"24px\" viewBox=\"0 -960 960 960\">\n",
              "    <path d=\"M120-120v-720h720v720H120Zm60-500h600v-160H180v160Zm220 220h160v-160H400v160Zm0 220h160v-160H400v160ZM180-400h160v-160H180v160Zm440 0h160v-160H620v160ZM180-180h160v-160H180v160Zm440 0h160v-160H620v160Z\"/>\n",
              "  </svg>\n",
              "    </button>\n",
              "\n",
              "  <style>\n",
              "    .colab-df-container {\n",
              "      display:flex;\n",
              "      gap: 12px;\n",
              "    }\n",
              "\n",
              "    .colab-df-convert {\n",
              "      background-color: #E8F0FE;\n",
              "      border: none;\n",
              "      border-radius: 50%;\n",
              "      cursor: pointer;\n",
              "      display: none;\n",
              "      fill: #1967D2;\n",
              "      height: 32px;\n",
              "      padding: 0 0 0 0;\n",
              "      width: 32px;\n",
              "    }\n",
              "\n",
              "    .colab-df-convert:hover {\n",
              "      background-color: #E2EBFA;\n",
              "      box-shadow: 0px 1px 2px rgba(60, 64, 67, 0.3), 0px 1px 3px 1px rgba(60, 64, 67, 0.15);\n",
              "      fill: #174EA6;\n",
              "    }\n",
              "\n",
              "    .colab-df-buttons div {\n",
              "      margin-bottom: 4px;\n",
              "    }\n",
              "\n",
              "    [theme=dark] .colab-df-convert {\n",
              "      background-color: #3B4455;\n",
              "      fill: #D2E3FC;\n",
              "    }\n",
              "\n",
              "    [theme=dark] .colab-df-convert:hover {\n",
              "      background-color: #434B5C;\n",
              "      box-shadow: 0px 1px 3px 1px rgba(0, 0, 0, 0.15);\n",
              "      filter: drop-shadow(0px 1px 2px rgba(0, 0, 0, 0.3));\n",
              "      fill: #FFFFFF;\n",
              "    }\n",
              "  </style>\n",
              "\n",
              "    <script>\n",
              "      const buttonEl =\n",
              "        document.querySelector('#df-91dc867b-c261-43b0-a11d-85223fc1ed79 button.colab-df-convert');\n",
              "      buttonEl.style.display =\n",
              "        google.colab.kernel.accessAllowed ? 'block' : 'none';\n",
              "\n",
              "      async function convertToInteractive(key) {\n",
              "        const element = document.querySelector('#df-91dc867b-c261-43b0-a11d-85223fc1ed79');\n",
              "        const dataTable =\n",
              "          await google.colab.kernel.invokeFunction('convertToInteractive',\n",
              "                                                    [key], {});\n",
              "        if (!dataTable) return;\n",
              "\n",
              "        const docLinkHtml = 'Like what you see? Visit the ' +\n",
              "          '<a target=\"_blank\" href=https://colab.research.google.com/notebooks/data_table.ipynb>data table notebook</a>'\n",
              "          + ' to learn more about interactive tables.';\n",
              "        element.innerHTML = '';\n",
              "        dataTable['output_type'] = 'display_data';\n",
              "        await google.colab.output.renderOutput(dataTable, element);\n",
              "        const docLink = document.createElement('div');\n",
              "        docLink.innerHTML = docLinkHtml;\n",
              "        element.appendChild(docLink);\n",
              "      }\n",
              "    </script>\n",
              "  </div>\n",
              "\n",
              "\n",
              "<div id=\"df-7dd9f3de-2410-401e-9225-71b3d50cd490\">\n",
              "  <button class=\"colab-df-quickchart\" onclick=\"quickchart('df-7dd9f3de-2410-401e-9225-71b3d50cd490')\"\n",
              "            title=\"Suggest charts\"\n",
              "            style=\"display:none;\">\n",
              "\n",
              "<svg xmlns=\"http://www.w3.org/2000/svg\" height=\"24px\"viewBox=\"0 0 24 24\"\n",
              "     width=\"24px\">\n",
              "    <g>\n",
              "        <path d=\"M19 3H5c-1.1 0-2 .9-2 2v14c0 1.1.9 2 2 2h14c1.1 0 2-.9 2-2V5c0-1.1-.9-2-2-2zM9 17H7v-7h2v7zm4 0h-2V7h2v10zm4 0h-2v-4h2v4z\"/>\n",
              "    </g>\n",
              "</svg>\n",
              "  </button>\n",
              "\n",
              "<style>\n",
              "  .colab-df-quickchart {\n",
              "      --bg-color: #E8F0FE;\n",
              "      --fill-color: #1967D2;\n",
              "      --hover-bg-color: #E2EBFA;\n",
              "      --hover-fill-color: #174EA6;\n",
              "      --disabled-fill-color: #AAA;\n",
              "      --disabled-bg-color: #DDD;\n",
              "  }\n",
              "\n",
              "  [theme=dark] .colab-df-quickchart {\n",
              "      --bg-color: #3B4455;\n",
              "      --fill-color: #D2E3FC;\n",
              "      --hover-bg-color: #434B5C;\n",
              "      --hover-fill-color: #FFFFFF;\n",
              "      --disabled-bg-color: #3B4455;\n",
              "      --disabled-fill-color: #666;\n",
              "  }\n",
              "\n",
              "  .colab-df-quickchart {\n",
              "    background-color: var(--bg-color);\n",
              "    border: none;\n",
              "    border-radius: 50%;\n",
              "    cursor: pointer;\n",
              "    display: none;\n",
              "    fill: var(--fill-color);\n",
              "    height: 32px;\n",
              "    padding: 0;\n",
              "    width: 32px;\n",
              "  }\n",
              "\n",
              "  .colab-df-quickchart:hover {\n",
              "    background-color: var(--hover-bg-color);\n",
              "    box-shadow: 0 1px 2px rgba(60, 64, 67, 0.3), 0 1px 3px 1px rgba(60, 64, 67, 0.15);\n",
              "    fill: var(--button-hover-fill-color);\n",
              "  }\n",
              "\n",
              "  .colab-df-quickchart-complete:disabled,\n",
              "  .colab-df-quickchart-complete:disabled:hover {\n",
              "    background-color: var(--disabled-bg-color);\n",
              "    fill: var(--disabled-fill-color);\n",
              "    box-shadow: none;\n",
              "  }\n",
              "\n",
              "  .colab-df-spinner {\n",
              "    border: 2px solid var(--fill-color);\n",
              "    border-color: transparent;\n",
              "    border-bottom-color: var(--fill-color);\n",
              "    animation:\n",
              "      spin 1s steps(1) infinite;\n",
              "  }\n",
              "\n",
              "  @keyframes spin {\n",
              "    0% {\n",
              "      border-color: transparent;\n",
              "      border-bottom-color: var(--fill-color);\n",
              "      border-left-color: var(--fill-color);\n",
              "    }\n",
              "    20% {\n",
              "      border-color: transparent;\n",
              "      border-left-color: var(--fill-color);\n",
              "      border-top-color: var(--fill-color);\n",
              "    }\n",
              "    30% {\n",
              "      border-color: transparent;\n",
              "      border-left-color: var(--fill-color);\n",
              "      border-top-color: var(--fill-color);\n",
              "      border-right-color: var(--fill-color);\n",
              "    }\n",
              "    40% {\n",
              "      border-color: transparent;\n",
              "      border-right-color: var(--fill-color);\n",
              "      border-top-color: var(--fill-color);\n",
              "    }\n",
              "    60% {\n",
              "      border-color: transparent;\n",
              "      border-right-color: var(--fill-color);\n",
              "    }\n",
              "    80% {\n",
              "      border-color: transparent;\n",
              "      border-right-color: var(--fill-color);\n",
              "      border-bottom-color: var(--fill-color);\n",
              "    }\n",
              "    90% {\n",
              "      border-color: transparent;\n",
              "      border-bottom-color: var(--fill-color);\n",
              "    }\n",
              "  }\n",
              "</style>\n",
              "\n",
              "  <script>\n",
              "    async function quickchart(key) {\n",
              "      const quickchartButtonEl =\n",
              "        document.querySelector('#' + key + ' button');\n",
              "      quickchartButtonEl.disabled = true;  // To prevent multiple clicks.\n",
              "      quickchartButtonEl.classList.add('colab-df-spinner');\n",
              "      try {\n",
              "        const charts = await google.colab.kernel.invokeFunction(\n",
              "            'suggestCharts', [key], {});\n",
              "      } catch (error) {\n",
              "        console.error('Error during call to suggestCharts:', error);\n",
              "      }\n",
              "      quickchartButtonEl.classList.remove('colab-df-spinner');\n",
              "      quickchartButtonEl.classList.add('colab-df-quickchart-complete');\n",
              "    }\n",
              "    (() => {\n",
              "      let quickchartButtonEl =\n",
              "        document.querySelector('#df-7dd9f3de-2410-401e-9225-71b3d50cd490 button');\n",
              "      quickchartButtonEl.style.display =\n",
              "        google.colab.kernel.accessAllowed ? 'block' : 'none';\n",
              "    })();\n",
              "  </script>\n",
              "</div>\n",
              "    </div>\n",
              "  </div>\n"
            ],
            "application/vnd.google.colaboratory.intrinsic+json": {
              "type": "dataframe",
              "variable_name": "data",
              "summary": "{\n  \"name\": \"data\",\n  \"rows\": 71704,\n  \"fields\": [\n    {\n      \"column\": \"code\",\n      \"properties\": {\n        \"dtype\": \"string\",\n        \"num_unique_values\": 71704,\n        \"samples\": [\n          \"Z1635\",\n          \"H0019\",\n          \"S83134S\"\n        ],\n        \"semantic_type\": \"\",\n        \"description\": \"\"\n      }\n    },\n    {\n      \"column\": \"name\",\n      \"properties\": {\n        \"dtype\": \"string\",\n        \"num_unique_values\": 71703,\n        \"samples\": [\n          \"Resistance to multiple antimicrobial drugs\",\n          \"Chalazion unspecified eye, unspecified eyelid\",\n          \"Medial disloc of proximal end of tibia, right knee, sequela\"\n        ],\n        \"semantic_type\": \"\",\n        \"description\": \"\"\n      }\n    }\n  ]\n}"
            }
          },
          "metadata": {},
          "execution_count": 58
        }
      ]
    },
    {
      "cell_type": "markdown",
      "source": [
        "2. a) Β403"
      ],
      "metadata": {
        "id": "kVle6awMX7y0"
      }
    },
    {
      "cell_type": "code",
      "source": [
        "disease1 = data[data['code'] == 'B403']"
      ],
      "metadata": {
        "id": "h6Dyx0rFX_lO"
      },
      "execution_count": 60,
      "outputs": []
    },
    {
      "cell_type": "code",
      "source": [
        "disease1"
      ],
      "metadata": {
        "colab": {
          "base_uri": "https://localhost:8080/",
          "height": 81
        },
        "id": "t6iBdAAsdMG5",
        "outputId": "22657e49-a68a-4fe7-d051-d3503f99c691"
      },
      "execution_count": 61,
      "outputs": [
        {
          "output_type": "execute_result",
          "data": {
            "text/plain": [
              "     code                     name\n",
              "786  B403  Cutaneous blastomycosis"
            ],
            "text/html": [
              "\n",
              "  <div id=\"df-223c8fd9-184d-48d7-a303-94c65e6f20eb\" class=\"colab-df-container\">\n",
              "    <div>\n",
              "<style scoped>\n",
              "    .dataframe tbody tr th:only-of-type {\n",
              "        vertical-align: middle;\n",
              "    }\n",
              "\n",
              "    .dataframe tbody tr th {\n",
              "        vertical-align: top;\n",
              "    }\n",
              "\n",
              "    .dataframe thead th {\n",
              "        text-align: right;\n",
              "    }\n",
              "</style>\n",
              "<table border=\"1\" class=\"dataframe\">\n",
              "  <thead>\n",
              "    <tr style=\"text-align: right;\">\n",
              "      <th></th>\n",
              "      <th>code</th>\n",
              "      <th>name</th>\n",
              "    </tr>\n",
              "  </thead>\n",
              "  <tbody>\n",
              "    <tr>\n",
              "      <th>786</th>\n",
              "      <td>B403</td>\n",
              "      <td>Cutaneous blastomycosis</td>\n",
              "    </tr>\n",
              "  </tbody>\n",
              "</table>\n",
              "</div>\n",
              "    <div class=\"colab-df-buttons\">\n",
              "\n",
              "  <div class=\"colab-df-container\">\n",
              "    <button class=\"colab-df-convert\" onclick=\"convertToInteractive('df-223c8fd9-184d-48d7-a303-94c65e6f20eb')\"\n",
              "            title=\"Convert this dataframe to an interactive table.\"\n",
              "            style=\"display:none;\">\n",
              "\n",
              "  <svg xmlns=\"http://www.w3.org/2000/svg\" height=\"24px\" viewBox=\"0 -960 960 960\">\n",
              "    <path d=\"M120-120v-720h720v720H120Zm60-500h600v-160H180v160Zm220 220h160v-160H400v160Zm0 220h160v-160H400v160ZM180-400h160v-160H180v160Zm440 0h160v-160H620v160ZM180-180h160v-160H180v160Zm440 0h160v-160H620v160Z\"/>\n",
              "  </svg>\n",
              "    </button>\n",
              "\n",
              "  <style>\n",
              "    .colab-df-container {\n",
              "      display:flex;\n",
              "      gap: 12px;\n",
              "    }\n",
              "\n",
              "    .colab-df-convert {\n",
              "      background-color: #E8F0FE;\n",
              "      border: none;\n",
              "      border-radius: 50%;\n",
              "      cursor: pointer;\n",
              "      display: none;\n",
              "      fill: #1967D2;\n",
              "      height: 32px;\n",
              "      padding: 0 0 0 0;\n",
              "      width: 32px;\n",
              "    }\n",
              "\n",
              "    .colab-df-convert:hover {\n",
              "      background-color: #E2EBFA;\n",
              "      box-shadow: 0px 1px 2px rgba(60, 64, 67, 0.3), 0px 1px 3px 1px rgba(60, 64, 67, 0.15);\n",
              "      fill: #174EA6;\n",
              "    }\n",
              "\n",
              "    .colab-df-buttons div {\n",
              "      margin-bottom: 4px;\n",
              "    }\n",
              "\n",
              "    [theme=dark] .colab-df-convert {\n",
              "      background-color: #3B4455;\n",
              "      fill: #D2E3FC;\n",
              "    }\n",
              "\n",
              "    [theme=dark] .colab-df-convert:hover {\n",
              "      background-color: #434B5C;\n",
              "      box-shadow: 0px 1px 3px 1px rgba(0, 0, 0, 0.15);\n",
              "      filter: drop-shadow(0px 1px 2px rgba(0, 0, 0, 0.3));\n",
              "      fill: #FFFFFF;\n",
              "    }\n",
              "  </style>\n",
              "\n",
              "    <script>\n",
              "      const buttonEl =\n",
              "        document.querySelector('#df-223c8fd9-184d-48d7-a303-94c65e6f20eb button.colab-df-convert');\n",
              "      buttonEl.style.display =\n",
              "        google.colab.kernel.accessAllowed ? 'block' : 'none';\n",
              "\n",
              "      async function convertToInteractive(key) {\n",
              "        const element = document.querySelector('#df-223c8fd9-184d-48d7-a303-94c65e6f20eb');\n",
              "        const dataTable =\n",
              "          await google.colab.kernel.invokeFunction('convertToInteractive',\n",
              "                                                    [key], {});\n",
              "        if (!dataTable) return;\n",
              "\n",
              "        const docLinkHtml = 'Like what you see? Visit the ' +\n",
              "          '<a target=\"_blank\" href=https://colab.research.google.com/notebooks/data_table.ipynb>data table notebook</a>'\n",
              "          + ' to learn more about interactive tables.';\n",
              "        element.innerHTML = '';\n",
              "        dataTable['output_type'] = 'display_data';\n",
              "        await google.colab.output.renderOutput(dataTable, element);\n",
              "        const docLink = document.createElement('div');\n",
              "        docLink.innerHTML = docLinkHtml;\n",
              "        element.appendChild(docLink);\n",
              "      }\n",
              "    </script>\n",
              "  </div>\n",
              "\n",
              "    </div>\n",
              "  </div>\n"
            ],
            "application/vnd.google.colaboratory.intrinsic+json": {
              "type": "dataframe",
              "variable_name": "disease1",
              "summary": "{\n  \"name\": \"disease1\",\n  \"rows\": 1,\n  \"fields\": [\n    {\n      \"column\": \"code\",\n      \"properties\": {\n        \"dtype\": \"string\",\n        \"num_unique_values\": 1,\n        \"samples\": [\n          \"B403\"\n        ],\n        \"semantic_type\": \"\",\n        \"description\": \"\"\n      }\n    },\n    {\n      \"column\": \"name\",\n      \"properties\": {\n        \"dtype\": \"string\",\n        \"num_unique_values\": 1,\n        \"samples\": [\n          \"Cutaneous blastomycosis\"\n        ],\n        \"semantic_type\": \"\",\n        \"description\": \"\"\n      }\n    }\n  ]\n}"
            }
          },
          "metadata": {},
          "execution_count": 61
        }
      ]
    },
    {
      "cell_type": "markdown",
      "source": [
        "b) T403"
      ],
      "metadata": {
        "id": "zhtRZ6hFdW_9"
      }
    },
    {
      "cell_type": "code",
      "source": [
        "filtered_data = data[data['code'].str.startswith('T403')]"
      ],
      "metadata": {
        "id": "uCgd3JldfhuW"
      },
      "execution_count": 98,
      "outputs": []
    },
    {
      "cell_type": "code",
      "source": [
        "disease2 = filtered_data.head(1)"
      ],
      "metadata": {
        "id": "VcK0E5Csfjpy"
      },
      "execution_count": 99,
      "outputs": []
    },
    {
      "cell_type": "code",
      "source": [
        "disease2"
      ],
      "metadata": {
        "colab": {
          "base_uri": "https://localhost:8080/",
          "height": 81
        },
        "id": "x_5wAlGAdiBX",
        "outputId": "9e2f5d2a-ecf5-4c79-cb5b-a2599b2bda0d"
      },
      "execution_count": 100,
      "outputs": [
        {
          "output_type": "execute_result",
          "data": {
            "text/plain": [
              "          code                                               name\n",
              "57641  T403X1A  Poisoning by methadone, accidental (unintentio..."
            ],
            "text/html": [
              "\n",
              "  <div id=\"df-19447eee-6cb5-4ec7-b6f5-b51203d4bd24\" class=\"colab-df-container\">\n",
              "    <div>\n",
              "<style scoped>\n",
              "    .dataframe tbody tr th:only-of-type {\n",
              "        vertical-align: middle;\n",
              "    }\n",
              "\n",
              "    .dataframe tbody tr th {\n",
              "        vertical-align: top;\n",
              "    }\n",
              "\n",
              "    .dataframe thead th {\n",
              "        text-align: right;\n",
              "    }\n",
              "</style>\n",
              "<table border=\"1\" class=\"dataframe\">\n",
              "  <thead>\n",
              "    <tr style=\"text-align: right;\">\n",
              "      <th></th>\n",
              "      <th>code</th>\n",
              "      <th>name</th>\n",
              "    </tr>\n",
              "  </thead>\n",
              "  <tbody>\n",
              "    <tr>\n",
              "      <th>57641</th>\n",
              "      <td>T403X1A</td>\n",
              "      <td>Poisoning by methadone, accidental (unintentio...</td>\n",
              "    </tr>\n",
              "  </tbody>\n",
              "</table>\n",
              "</div>\n",
              "    <div class=\"colab-df-buttons\">\n",
              "\n",
              "  <div class=\"colab-df-container\">\n",
              "    <button class=\"colab-df-convert\" onclick=\"convertToInteractive('df-19447eee-6cb5-4ec7-b6f5-b51203d4bd24')\"\n",
              "            title=\"Convert this dataframe to an interactive table.\"\n",
              "            style=\"display:none;\">\n",
              "\n",
              "  <svg xmlns=\"http://www.w3.org/2000/svg\" height=\"24px\" viewBox=\"0 -960 960 960\">\n",
              "    <path d=\"M120-120v-720h720v720H120Zm60-500h600v-160H180v160Zm220 220h160v-160H400v160Zm0 220h160v-160H400v160ZM180-400h160v-160H180v160Zm440 0h160v-160H620v160ZM180-180h160v-160H180v160Zm440 0h160v-160H620v160Z\"/>\n",
              "  </svg>\n",
              "    </button>\n",
              "\n",
              "  <style>\n",
              "    .colab-df-container {\n",
              "      display:flex;\n",
              "      gap: 12px;\n",
              "    }\n",
              "\n",
              "    .colab-df-convert {\n",
              "      background-color: #E8F0FE;\n",
              "      border: none;\n",
              "      border-radius: 50%;\n",
              "      cursor: pointer;\n",
              "      display: none;\n",
              "      fill: #1967D2;\n",
              "      height: 32px;\n",
              "      padding: 0 0 0 0;\n",
              "      width: 32px;\n",
              "    }\n",
              "\n",
              "    .colab-df-convert:hover {\n",
              "      background-color: #E2EBFA;\n",
              "      box-shadow: 0px 1px 2px rgba(60, 64, 67, 0.3), 0px 1px 3px 1px rgba(60, 64, 67, 0.15);\n",
              "      fill: #174EA6;\n",
              "    }\n",
              "\n",
              "    .colab-df-buttons div {\n",
              "      margin-bottom: 4px;\n",
              "    }\n",
              "\n",
              "    [theme=dark] .colab-df-convert {\n",
              "      background-color: #3B4455;\n",
              "      fill: #D2E3FC;\n",
              "    }\n",
              "\n",
              "    [theme=dark] .colab-df-convert:hover {\n",
              "      background-color: #434B5C;\n",
              "      box-shadow: 0px 1px 3px 1px rgba(0, 0, 0, 0.15);\n",
              "      filter: drop-shadow(0px 1px 2px rgba(0, 0, 0, 0.3));\n",
              "      fill: #FFFFFF;\n",
              "    }\n",
              "  </style>\n",
              "\n",
              "    <script>\n",
              "      const buttonEl =\n",
              "        document.querySelector('#df-19447eee-6cb5-4ec7-b6f5-b51203d4bd24 button.colab-df-convert');\n",
              "      buttonEl.style.display =\n",
              "        google.colab.kernel.accessAllowed ? 'block' : 'none';\n",
              "\n",
              "      async function convertToInteractive(key) {\n",
              "        const element = document.querySelector('#df-19447eee-6cb5-4ec7-b6f5-b51203d4bd24');\n",
              "        const dataTable =\n",
              "          await google.colab.kernel.invokeFunction('convertToInteractive',\n",
              "                                                    [key], {});\n",
              "        if (!dataTable) return;\n",
              "\n",
              "        const docLinkHtml = 'Like what you see? Visit the ' +\n",
              "          '<a target=\"_blank\" href=https://colab.research.google.com/notebooks/data_table.ipynb>data table notebook</a>'\n",
              "          + ' to learn more about interactive tables.';\n",
              "        element.innerHTML = '';\n",
              "        dataTable['output_type'] = 'display_data';\n",
              "        await google.colab.output.renderOutput(dataTable, element);\n",
              "        const docLink = document.createElement('div');\n",
              "        docLink.innerHTML = docLinkHtml;\n",
              "        element.appendChild(docLink);\n",
              "      }\n",
              "    </script>\n",
              "  </div>\n",
              "\n",
              "    </div>\n",
              "  </div>\n"
            ],
            "application/vnd.google.colaboratory.intrinsic+json": {
              "type": "dataframe",
              "variable_name": "disease2",
              "summary": "{\n  \"name\": \"disease2\",\n  \"rows\": 1,\n  \"fields\": [\n    {\n      \"column\": \"code\",\n      \"properties\": {\n        \"dtype\": \"string\",\n        \"num_unique_values\": 1,\n        \"samples\": [\n          \"T403X1A\"\n        ],\n        \"semantic_type\": \"\",\n        \"description\": \"\"\n      }\n    },\n    {\n      \"column\": \"name\",\n      \"properties\": {\n        \"dtype\": \"string\",\n        \"num_unique_values\": 1,\n        \"samples\": [\n          \"Poisoning by methadone, accidental (unintentional), init\"\n        ],\n        \"semantic_type\": \"\",\n        \"description\": \"\"\n      }\n    }\n  ]\n}"
            }
          },
          "metadata": {},
          "execution_count": 100
        }
      ]
    },
    {
      "cell_type": "markdown",
      "source": [
        "c) random"
      ],
      "metadata": {
        "id": "Nv3-8lk7dkwI"
      }
    },
    {
      "cell_type": "code",
      "source": [
        "import numpy as np\n",
        "ran_index = np.random.choice(data.index)\n",
        "disease3 = data.loc[ran_index]\n",
        "disease3 = pd.DataFrame(disease3)"
      ],
      "metadata": {
        "id": "sua0QygPd7Lm"
      },
      "execution_count": 101,
      "outputs": []
    },
    {
      "cell_type": "code",
      "source": [
        "disease3 = disease3.transpose()"
      ],
      "metadata": {
        "id": "JR3_hkNJedgv"
      },
      "execution_count": 108,
      "outputs": []
    },
    {
      "cell_type": "code",
      "source": [
        "disease3"
      ],
      "metadata": {
        "colab": {
          "base_uri": "https://localhost:8080/",
          "height": 81
        },
        "id": "mGnEKc9QoL7r",
        "outputId": "f3ac0a13-1069-4ef9-e33b-ca8a73706fe6"
      },
      "execution_count": 109,
      "outputs": [
        {
          "output_type": "execute_result",
          "data": {
            "text/plain": [
              "          code                                               name\n",
              "45342  S76111S  Strain of right quadriceps musc/fasc/tend, seq..."
            ],
            "text/html": [
              "\n",
              "  <div id=\"df-bac44909-0e51-48be-bdc4-e64c399ce5a8\" class=\"colab-df-container\">\n",
              "    <div>\n",
              "<style scoped>\n",
              "    .dataframe tbody tr th:only-of-type {\n",
              "        vertical-align: middle;\n",
              "    }\n",
              "\n",
              "    .dataframe tbody tr th {\n",
              "        vertical-align: top;\n",
              "    }\n",
              "\n",
              "    .dataframe thead th {\n",
              "        text-align: right;\n",
              "    }\n",
              "</style>\n",
              "<table border=\"1\" class=\"dataframe\">\n",
              "  <thead>\n",
              "    <tr style=\"text-align: right;\">\n",
              "      <th></th>\n",
              "      <th>code</th>\n",
              "      <th>name</th>\n",
              "    </tr>\n",
              "  </thead>\n",
              "  <tbody>\n",
              "    <tr>\n",
              "      <th>45342</th>\n",
              "      <td>S76111S</td>\n",
              "      <td>Strain of right quadriceps musc/fasc/tend, seq...</td>\n",
              "    </tr>\n",
              "  </tbody>\n",
              "</table>\n",
              "</div>\n",
              "    <div class=\"colab-df-buttons\">\n",
              "\n",
              "  <div class=\"colab-df-container\">\n",
              "    <button class=\"colab-df-convert\" onclick=\"convertToInteractive('df-bac44909-0e51-48be-bdc4-e64c399ce5a8')\"\n",
              "            title=\"Convert this dataframe to an interactive table.\"\n",
              "            style=\"display:none;\">\n",
              "\n",
              "  <svg xmlns=\"http://www.w3.org/2000/svg\" height=\"24px\" viewBox=\"0 -960 960 960\">\n",
              "    <path d=\"M120-120v-720h720v720H120Zm60-500h600v-160H180v160Zm220 220h160v-160H400v160Zm0 220h160v-160H400v160ZM180-400h160v-160H180v160Zm440 0h160v-160H620v160ZM180-180h160v-160H180v160Zm440 0h160v-160H620v160Z\"/>\n",
              "  </svg>\n",
              "    </button>\n",
              "\n",
              "  <style>\n",
              "    .colab-df-container {\n",
              "      display:flex;\n",
              "      gap: 12px;\n",
              "    }\n",
              "\n",
              "    .colab-df-convert {\n",
              "      background-color: #E8F0FE;\n",
              "      border: none;\n",
              "      border-radius: 50%;\n",
              "      cursor: pointer;\n",
              "      display: none;\n",
              "      fill: #1967D2;\n",
              "      height: 32px;\n",
              "      padding: 0 0 0 0;\n",
              "      width: 32px;\n",
              "    }\n",
              "\n",
              "    .colab-df-convert:hover {\n",
              "      background-color: #E2EBFA;\n",
              "      box-shadow: 0px 1px 2px rgba(60, 64, 67, 0.3), 0px 1px 3px 1px rgba(60, 64, 67, 0.15);\n",
              "      fill: #174EA6;\n",
              "    }\n",
              "\n",
              "    .colab-df-buttons div {\n",
              "      margin-bottom: 4px;\n",
              "    }\n",
              "\n",
              "    [theme=dark] .colab-df-convert {\n",
              "      background-color: #3B4455;\n",
              "      fill: #D2E3FC;\n",
              "    }\n",
              "\n",
              "    [theme=dark] .colab-df-convert:hover {\n",
              "      background-color: #434B5C;\n",
              "      box-shadow: 0px 1px 3px 1px rgba(0, 0, 0, 0.15);\n",
              "      filter: drop-shadow(0px 1px 2px rgba(0, 0, 0, 0.3));\n",
              "      fill: #FFFFFF;\n",
              "    }\n",
              "  </style>\n",
              "\n",
              "    <script>\n",
              "      const buttonEl =\n",
              "        document.querySelector('#df-bac44909-0e51-48be-bdc4-e64c399ce5a8 button.colab-df-convert');\n",
              "      buttonEl.style.display =\n",
              "        google.colab.kernel.accessAllowed ? 'block' : 'none';\n",
              "\n",
              "      async function convertToInteractive(key) {\n",
              "        const element = document.querySelector('#df-bac44909-0e51-48be-bdc4-e64c399ce5a8');\n",
              "        const dataTable =\n",
              "          await google.colab.kernel.invokeFunction('convertToInteractive',\n",
              "                                                    [key], {});\n",
              "        if (!dataTable) return;\n",
              "\n",
              "        const docLinkHtml = 'Like what you see? Visit the ' +\n",
              "          '<a target=\"_blank\" href=https://colab.research.google.com/notebooks/data_table.ipynb>data table notebook</a>'\n",
              "          + ' to learn more about interactive tables.';\n",
              "        element.innerHTML = '';\n",
              "        dataTable['output_type'] = 'display_data';\n",
              "        await google.colab.output.renderOutput(dataTable, element);\n",
              "        const docLink = document.createElement('div');\n",
              "        docLink.innerHTML = docLinkHtml;\n",
              "        element.appendChild(docLink);\n",
              "      }\n",
              "    </script>\n",
              "  </div>\n",
              "\n",
              "    </div>\n",
              "  </div>\n"
            ],
            "application/vnd.google.colaboratory.intrinsic+json": {
              "type": "dataframe",
              "variable_name": "disease3",
              "summary": "{\n  \"name\": \"disease3\",\n  \"rows\": 1,\n  \"fields\": [\n    {\n      \"column\": \"code\",\n      \"properties\": {\n        \"dtype\": \"string\",\n        \"num_unique_values\": 1,\n        \"samples\": [\n          \"S76111S\"\n        ],\n        \"semantic_type\": \"\",\n        \"description\": \"\"\n      }\n    },\n    {\n      \"column\": \"name\",\n      \"properties\": {\n        \"dtype\": \"string\",\n        \"num_unique_values\": 1,\n        \"samples\": [\n          \"Strain of right quadriceps musc/fasc/tend, sequela\"\n        ],\n        \"semantic_type\": \"\",\n        \"description\": \"\"\n      }\n    }\n  ]\n}"
            }
          },
          "metadata": {},
          "execution_count": 109
        }
      ]
    },
    {
      "cell_type": "markdown",
      "source": [
        "3. Συνολικός αριθμός ασθενειών που σχετίζονται με τις παραπάνω 3 ασθένειες τα τελευταία 4 χρόνια."
      ],
      "metadata": {
        "id": "BdR8C9TqX-pJ"
      }
    },
    {
      "cell_type": "markdown",
      "source": [
        "Ορίζω τα keywords:"
      ],
      "metadata": {
        "id": "k47-sUJjnp4U"
      }
    },
    {
      "cell_type": "code",
      "source": [
        "dis1 = disease1.iloc[0, 1]\n",
        "dis2 = disease2.iloc[0, 1]\n",
        "dis3 = disease3.iloc[0, 1]"
      ],
      "metadata": {
        "id": "KUnxeuPufzhZ"
      },
      "execution_count": 110,
      "outputs": []
    },
    {
      "cell_type": "code",
      "source": [
        "split2 = dis2.split(', ')"
      ],
      "metadata": {
        "id": "KemOi2zI-epJ"
      },
      "execution_count": 213,
      "outputs": []
    },
    {
      "cell_type": "code",
      "source": [
        "split3 = dis3.split(', ')"
      ],
      "metadata": {
        "id": "R7MHYEq3_hsb"
      },
      "execution_count": 238,
      "outputs": []
    },
    {
      "cell_type": "code",
      "source": [
        "dis3"
      ],
      "metadata": {
        "colab": {
          "base_uri": "https://localhost:8080/",
          "height": 35
        },
        "id": "u3iVGapp_4Fn",
        "outputId": "60e5338a-213b-498c-fcfb-71547f458128"
      },
      "execution_count": 243,
      "outputs": [
        {
          "output_type": "execute_result",
          "data": {
            "text/plain": [
              "'Strain of right quadriceps musc/fasc/tend, sequela'"
            ],
            "application/vnd.google.colaboratory.intrinsic+json": {
              "type": "string"
            }
          },
          "metadata": {},
          "execution_count": 243
        }
      ]
    },
    {
      "cell_type": "code",
      "source": [
        "fetch = PubMedFetcher()\n",
        "pmidss1 = fetch.pmids_for_query(dis1)\n",
        "pmidss2 = fetch.pmids_for_query(split2[0])\n",
        "pmidss3 = fetch.pmids_for_query('Strain of right quadriceps')"
      ],
      "metadata": {
        "id": "IeV7BS-cm16o"
      },
      "execution_count": 244,
      "outputs": []
    },
    {
      "cell_type": "code",
      "source": [
        "years = {}\n",
        "for pmid in pmidss1:\n",
        "  years[pmid] = fetch.article_by_pmid(pmid).year\n",
        "Year1 = pd.DataFrame(list(years.items()), columns = ['pmid', 'Year'])"
      ],
      "metadata": {
        "id": "xJed9vMTpk4N"
      },
      "execution_count": 326,
      "outputs": []
    },
    {
      "cell_type": "code",
      "source": [
        "four_years = [2020, 2021, 2022, 2023]\n",
        "Year1['Year'] = pd.to_numeric(Year1['Year'], errors='coerce')\n",
        "Year1_4y = []\n",
        "for year in four_years:\n",
        "  Year1_4 = Year1[Year1['Year'] == year]\n",
        "  Year1_4y.append(Year1_4)\n",
        "result1 = pd.concat(Year1_4y)\n",
        "pan = pd.DataFrame(result1)"
      ],
      "metadata": {
        "id": "Cs5X8EDTxoIp"
      },
      "execution_count": 185,
      "outputs": []
    },
    {
      "cell_type": "markdown",
      "source": [
        "Ο αριθμός άρθρων για την πρώτη ασθένεια τα 4 τελευταία χρόνια:"
      ],
      "metadata": {
        "id": "daEjW2PL5Cz8"
      }
    },
    {
      "cell_type": "code",
      "source": [
        "num1 = len(pan)\n",
        "num1"
      ],
      "metadata": {
        "colab": {
          "base_uri": "https://localhost:8080/"
        },
        "id": "Qq1f4iYw4tdI",
        "outputId": "fe3df50e-dc59-4362-dca0-88fbb4d938c0"
      },
      "execution_count": 186,
      "outputs": [
        {
          "output_type": "execute_result",
          "data": {
            "text/plain": [
              "31"
            ]
          },
          "metadata": {},
          "execution_count": 186
        }
      ]
    },
    {
      "cell_type": "markdown",
      "source": [
        "Επαναλαμβάνω για τις άλλες 2 ασθένειες."
      ],
      "metadata": {
        "id": "PGpfBeIXA7O5"
      }
    },
    {
      "cell_type": "code",
      "source": [
        "years = {}\n",
        "for pmid in pmidss2:\n",
        "  years[pmid] = fetch.article_by_pmid(pmid).year\n",
        "Year2 = pd.DataFrame(list(years.items()), columns = ['pmid', 'Year'])"
      ],
      "metadata": {
        "id": "Hu4RT1aK6BvX"
      },
      "execution_count": 247,
      "outputs": []
    },
    {
      "cell_type": "code",
      "source": [
        "Year2['Year'] = pd.to_numeric(Year2['Year'], errors='coerce')\n",
        "Year2_4y = []\n",
        "for year in four_years:\n",
        "  Year2_4 = Year2[Year2['Year'] == year]\n",
        "  Year2_4y.append(Year2_4)\n",
        "result2 = pd.concat(Year2_4y)\n",
        "pan2 = pd.DataFrame(result2)"
      ],
      "metadata": {
        "id": "tS4-EOryAMz8"
      },
      "execution_count": 249,
      "outputs": []
    },
    {
      "cell_type": "code",
      "source": [
        "num2 = len(pan2)\n",
        "num2"
      ],
      "metadata": {
        "colab": {
          "base_uri": "https://localhost:8080/"
        },
        "id": "lpUblKsbA1zx",
        "outputId": "2316a329-6bda-4ae7-fbc6-a73a22b8e6a9"
      },
      "execution_count": 250,
      "outputs": [
        {
          "output_type": "execute_result",
          "data": {
            "text/plain": [
              "95"
            ]
          },
          "metadata": {},
          "execution_count": 250
        }
      ]
    },
    {
      "cell_type": "code",
      "source": [
        "years = {}\n",
        "for pmid in pmidss3:\n",
        "  years[pmid] = fetch.article_by_pmid(pmid).year\n",
        "Year3 = pd.DataFrame(list(years.items()), columns = ['pmid', 'Year'])"
      ],
      "metadata": {
        "id": "37HBk7Dt57ZW"
      },
      "execution_count": 251,
      "outputs": []
    },
    {
      "cell_type": "code",
      "source": [
        "Year3['Year'] = pd.to_numeric(Year3['Year'], errors='coerce')\n",
        "Year3_4y = []\n",
        "for year in four_years:\n",
        "  Year3_4 = Year3[Year3['Year'] == year]\n",
        "  Year3_4y.append(Year3_4)\n",
        "result3 = pd.concat(Year3_4y)\n",
        "pan3 = pd.DataFrame(result3)"
      ],
      "metadata": {
        "id": "XIb-qa3hANiK"
      },
      "execution_count": 253,
      "outputs": []
    },
    {
      "cell_type": "code",
      "source": [
        "num3 = len(pan3)\n",
        "num3"
      ],
      "metadata": {
        "colab": {
          "base_uri": "https://localhost:8080/"
        },
        "id": "xwG8XubdBDnj",
        "outputId": "86818cfb-6292-489e-8a62-01e82316ead3"
      },
      "execution_count": 254,
      "outputs": [
        {
          "output_type": "execute_result",
          "data": {
            "text/plain": [
              "5"
            ]
          },
          "metadata": {},
          "execution_count": 254
        }
      ]
    },
    {
      "cell_type": "markdown",
      "source": [
        "Ο συνολικός αριθμός των άρθρων που σχετίζονται με τις 3 ασθένειες τα τελευταία 4 χρόνια είναι ο εξής:"
      ],
      "metadata": {
        "id": "o2nE98dLBG07"
      }
    },
    {
      "cell_type": "code",
      "source": [
        "tot = num1 + num2 + num3\n",
        "tot"
      ],
      "metadata": {
        "colab": {
          "base_uri": "https://localhost:8080/"
        },
        "id": "F24rKuYEBOC-",
        "outputId": "0e8f5617-21a3-4dd1-f5d2-2e448522a94e"
      },
      "execution_count": 257,
      "outputs": [
        {
          "output_type": "execute_result",
          "data": {
            "text/plain": [
              "131"
            ]
          },
          "metadata": {},
          "execution_count": 257
        }
      ]
    },
    {
      "cell_type": "markdown",
      "source": [
        "4. Barplot\n",
        "\n"
      ],
      "metadata": {
        "id": "KNa_fuobYAFD"
      }
    },
    {
      "cell_type": "code",
      "source": [
        "#for disease no1\n",
        "d1_20 = Year1[Year1['Year'] == 2020]\n",
        "d1_21 = Year1[Year1['Year'] == 2021]\n",
        "d1_22 = Year1[Year1['Year'] == 2022]\n",
        "d1_23 = Year1[Year1['Year'] == 2023]\n",
        "n1_20 = len(d1_20)\n",
        "n1_21 = len(d1_21)\n",
        "n1_22 = len(d1_22)\n",
        "n1_23 = len(d1_23)"
      ],
      "metadata": {
        "id": "QfuDyq3mEHSl"
      },
      "execution_count": 299,
      "outputs": []
    },
    {
      "cell_type": "code",
      "source": [
        "#for disease no2\n",
        "d2_20 = Year2[Year2['Year'] == 2020]\n",
        "d2_21 = Year2[Year2['Year'] == 2021]\n",
        "d2_22 = Year2[Year2['Year'] == 2022]\n",
        "d2_23 = Year2[Year2['Year'] == 2023]\n",
        "n2_20 = len(d2_20)\n",
        "n2_21 = len(d2_21)\n",
        "n2_22 = len(d2_22)\n",
        "n2_23 = len(d2_23)"
      ],
      "metadata": {
        "id": "WKk0XugEEc4o"
      },
      "execution_count": 300,
      "outputs": []
    },
    {
      "cell_type": "code",
      "source": [
        "#for disease no3\n",
        "d3_20 = Year3[Year3['Year'] == 2020]\n",
        "d3_21 = Year3[Year3['Year'] == 2021]\n",
        "d3_22 = Year3[Year3['Year'] == 2022]\n",
        "d3_23 = Year3[Year3['Year'] == 2023]\n",
        "n3_20 = len(d3_20)\n",
        "n3_21 = len(d3_21)\n",
        "n3_22 = len(d3_22)\n",
        "n3_23 = len(d3_23)"
      ],
      "metadata": {
        "id": "QlOmAvPOEi_b"
      },
      "execution_count": 301,
      "outputs": []
    },
    {
      "cell_type": "code",
      "source": [
        "import matplotlib.pyplot as plt\n",
        "diseases = [dis1, split2[0], 'Strain of right quadriceps']"
      ],
      "metadata": {
        "colab": {
          "base_uri": "https://localhost:8080/",
          "height": 34
        },
        "id": "AiTPK9pTK1Ya",
        "outputId": "9416b1c0-b6fc-49ad-b021-1318b2fe768f"
      },
      "execution_count": 297,
      "outputs": [
        {
          "output_type": "display_data",
          "data": {
            "text/plain": [
              "<Figure size 1000x600 with 0 Axes>"
            ]
          },
          "metadata": {}
        }
      ]
    },
    {
      "cell_type": "code",
      "source": [
        "articles_by_disease_and_year = []\n",
        "for i, disease in enumerate(diseases): #disease[0]\n",
        "    articles_by_year = [globals()[f'n{i + 1}_{year}'] for year in range(20, 24)]\n",
        "    articles_by_disease_and_year.append(articles_by_year)"
      ],
      "metadata": {
        "id": "9AZCjkH1MaHQ"
      },
      "execution_count": 308,
      "outputs": []
    },
    {
      "cell_type": "code",
      "source": [
        "articles_by_disease_and_year"
      ],
      "metadata": {
        "colab": {
          "base_uri": "https://localhost:8080/"
        },
        "id": "FpWCGxVTRIGS",
        "outputId": "a0e15a02-e270-4138-a35a-76019e4075a9"
      },
      "execution_count": 315,
      "outputs": [
        {
          "output_type": "execute_result",
          "data": {
            "text/plain": [
              "[[6, 3, 12, 10], [31, 22, 24, 18], [2, 0, 2, 1]]"
            ]
          },
          "metadata": {},
          "execution_count": 315
        }
      ]
    },
    {
      "cell_type": "code",
      "source": [
        "fig, ax = plt.subplots(figsize=(10, 6))\n",
        "years = np.arange(2020, 2024)\n",
        "bar_width = 0.2\n",
        "for i, disease_data in enumerate(articles_by_disease_and_year):\n",
        "    ax.bar(years + i * bar_width, disease_data, bar_width, label=diseases[i])\n",
        "\n",
        "ax.set_xlabel('Year')\n",
        "ax.set_ylabel('Number of Articles')\n",
        "ax.set_title('Number of Articles for Each Disease over 4 Years')\n",
        "\n",
        "ax.set_xticks(years + bar_width * len(diseases) / 2)\n",
        "ax.set_xticklabels([str(year) for year in years])\n",
        "\n",
        "ax.legend()\n",
        "\n",
        "plt.tight_layout()\n",
        "plt.show()"
      ],
      "metadata": {
        "colab": {
          "base_uri": "https://localhost:8080/",
          "height": 510
        },
        "id": "mgQLgzNFGGW6",
        "outputId": "1a057f7c-1949-49ea-a89b-46fafb7f3ca4"
      },
      "execution_count": 311,
      "outputs": [
        {
          "output_type": "display_data",
          "data": {
            "text/plain": [
              "<Figure size 1000x600 with 1 Axes>"
            ],
            "image/png": "[encoded data removed]"
          },
          "metadata": {}
        }
      ]
    },
    {
      "cell_type": "markdown",
      "source": [
        "5. Treemap"
      ],
      "metadata": {
        "id": "VSXaYaqkYBA7"
      }
    },
    {
      "cell_type": "code",
      "source": [
        "!pip install squarify\n",
        "import squarify"
      ],
      "metadata": {
        "id": "aAL5TZm6QysY"
      },
      "execution_count": null,
      "outputs": []
    },
    {
      "cell_type": "code",
      "source": [
        "articles_last_two_years = []\n",
        "for disease_data in articles_by_disease_and_year:\n",
        "    articles_last_two_years.append(disease_data[-2:])"
      ],
      "metadata": {
        "id": "M9J_lv_bRADJ"
      },
      "execution_count": 316,
      "outputs": []
    },
    {
      "cell_type": "code",
      "source": [
        "articles_last_two_years"
      ],
      "metadata": {
        "colab": {
          "base_uri": "https://localhost:8080/"
        },
        "id": "ocafTCcVRXfI",
        "outputId": "3652e134-b783-4237-a0f9-7fe7da8ea171"
      },
      "execution_count": 317,
      "outputs": [
        {
          "output_type": "execute_result",
          "data": {
            "text/plain": [
              "[[12, 10], [24, 18], [2, 1]]"
            ]
          },
          "metadata": {},
          "execution_count": 317
        }
      ]
    },
    {
      "cell_type": "code",
      "source": [
        "disease_labels = diseases\n",
        "year_labels = ['2022', '2023']\n",
        "\n",
        "# Define colors for each disease\n",
        "disease_colors = ['red', 'blue', 'green']  # Add more colors if needed\n",
        "\n",
        "# Calculate sizes for the treemap\n",
        "sizes = [article for disease_data in articles_last_two_years for article in disease_data]\n",
        "\n",
        "# Define labels for subgroups\n",
        "labels = [f'{disease}\\n{year_labels[i]}: {articles_last_two_years[disease_idx][i]}'\n",
        "          for disease_idx, disease in enumerate(disease_labels)\n",
        "          for i in range(len(year_labels))]\n",
        "\n",
        "# Plot the treemap\n",
        "plt.figure(figsize=(10, 6))\n",
        "squarify.plot(sizes=sizes, label=labels, color=[disease_colors[disease_idx] for disease_idx in range(len(disease_labels)) for _ in range(len(year_labels))], alpha=0.7, edgecolor='black')\n",
        "plt.title('Number of Articles for Each Disease in 2022 and 2023')\n",
        "plt.axis('off')\n",
        "plt.show()"
      ],
      "metadata": {
        "colab": {
          "base_uri": "https://localhost:8080/",
          "height": 509
        },
        "id": "SwK0DQqSRcTY",
        "outputId": "08a9f1d5-7a7f-458e-fb2a-51308d664b32"
      },
      "execution_count": 325,
      "outputs": [
        {
          "output_type": "display_data",
          "data": {
            "text/plain": [
              "<Figure size 1000x600 with 1 Axes>"
            ],
            "image/png": "[encoded data removed]"
          },
          "metadata": {}
        }
      ]
    }
  ]
}